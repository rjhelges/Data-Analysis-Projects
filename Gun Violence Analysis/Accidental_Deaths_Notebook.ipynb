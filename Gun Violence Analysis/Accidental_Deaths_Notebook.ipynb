{
 "cells": [
  {
   "cell_type": "markdown",
   "metadata": {},
   "source": [
    "# Accidental Deaths by Guns Data Exploration\n",
    "\n",
    "Taking a look at accidental gun death data provided by the Gun Violence Archive"
   ]
  },
  {
   "cell_type": "code",
   "execution_count": 1,
   "metadata": {},
   "outputs": [],
   "source": [
    "import pandas as pd\n",
    "import numpy as np\n",
    "import matplotlib.pyplot as plt"
   ]
  },
  {
   "cell_type": "markdown",
   "metadata": {},
   "source": [
    "Read in csv files into pandas dataframes to work with the data"
   ]
  },
  {
   "cell_type": "code",
   "execution_count": 2,
   "metadata": {},
   "outputs": [],
   "source": [
    "accDeaths = pd.read_csv(\"accidental_deaths.csv\")\n",
    "accChildDeaths = pd.read_csv(\"accidental_deaths_children.csv\")\n",
    "accTeenDeaths = pd.read_csv(\"accidental_deaths_teens.csv\")\n",
    "\n",
    "accInjured = pd.read_csv(\"accidental_injuries.csv\")\n",
    "accChildInjured = pd.read_csv(\"accidental_injuries_children.csv\")\n",
    "accTeenInjured = pd.read_csv(\"accidental_injuries_teens.csv\")\n"
   ]
  },
  {
   "cell_type": "code",
   "execution_count": 3,
   "metadata": {},
   "outputs": [
    {
     "name": "stdout",
     "output_type": "stream",
     "text": [
      "(500, 7)\n",
      "(206, 7)\n",
      "(290, 7)\n",
      "(500, 7)\n",
      "(467, 7)\n",
      "(500, 7)\n"
     ]
    }
   ],
   "source": [
    "print(accDeaths.shape)\n",
    "print(accChildDeaths.shape)\n",
    "print(accTeenDeaths.shape)\n",
    "print(accInjured.shape)\n",
    "print(accChildInjured.shape)\n",
    "print(accTeenInjured.shape)"
   ]
  },
  {
   "cell_type": "markdown",
   "metadata": {},
   "source": [
    "Taking a look at the shape of the dataframes. All have 7 columns with varying row values"
   ]
  },
  {
   "cell_type": "code",
   "execution_count": 4,
   "metadata": {},
   "outputs": [
    {
     "data": {
      "text/html": [
       "<div>\n",
       "<style scoped>\n",
       "    .dataframe tbody tr th:only-of-type {\n",
       "        vertical-align: middle;\n",
       "    }\n",
       "\n",
       "    .dataframe tbody tr th {\n",
       "        vertical-align: top;\n",
       "    }\n",
       "\n",
       "    .dataframe thead th {\n",
       "        text-align: right;\n",
       "    }\n",
       "</style>\n",
       "<table border=\"1\" class=\"dataframe\">\n",
       "  <thead>\n",
       "    <tr style=\"text-align: right;\">\n",
       "      <th></th>\n",
       "      <th>Incident Date</th>\n",
       "      <th>State</th>\n",
       "      <th>City Or County</th>\n",
       "      <th>Address</th>\n",
       "      <th># Killed</th>\n",
       "      <th># Injured</th>\n",
       "      <th>Operations</th>\n",
       "    </tr>\n",
       "  </thead>\n",
       "  <tbody>\n",
       "    <tr>\n",
       "      <th>0</th>\n",
       "      <td>November 26, 2016</td>\n",
       "      <td>Maryland</td>\n",
       "      <td>Sabillasville</td>\n",
       "      <td>6600 block of Eylers Valley Flint Road</td>\n",
       "      <td>1</td>\n",
       "      <td>0</td>\n",
       "      <td>NaN</td>\n",
       "    </tr>\n",
       "    <tr>\n",
       "      <th>1</th>\n",
       "      <td>November 26, 2016</td>\n",
       "      <td>Ohio</td>\n",
       "      <td>Grand Rapids</td>\n",
       "      <td>SR Route 65</td>\n",
       "      <td>1</td>\n",
       "      <td>0</td>\n",
       "      <td>NaN</td>\n",
       "    </tr>\n",
       "    <tr>\n",
       "      <th>2</th>\n",
       "      <td>November 24, 2016</td>\n",
       "      <td>New York</td>\n",
       "      <td>Sandy Creek</td>\n",
       "      <td>Kehoe Road</td>\n",
       "      <td>1</td>\n",
       "      <td>0</td>\n",
       "      <td>NaN</td>\n",
       "    </tr>\n",
       "    <tr>\n",
       "      <th>3</th>\n",
       "      <td>November 24, 2016</td>\n",
       "      <td>Florida</td>\n",
       "      <td>Black Point</td>\n",
       "      <td>NaN</td>\n",
       "      <td>1</td>\n",
       "      <td>0</td>\n",
       "      <td>NaN</td>\n",
       "    </tr>\n",
       "    <tr>\n",
       "      <th>4</th>\n",
       "      <td>November 23, 2016</td>\n",
       "      <td>Michigan</td>\n",
       "      <td>Powell Township</td>\n",
       "      <td>North 1311 County Road KCI</td>\n",
       "      <td>1</td>\n",
       "      <td>0</td>\n",
       "      <td>NaN</td>\n",
       "    </tr>\n",
       "  </tbody>\n",
       "</table>\n",
       "</div>"
      ],
      "text/plain": [
       "       Incident Date     State   City Or County  \\\n",
       "0  November 26, 2016  Maryland    Sabillasville   \n",
       "1  November 26, 2016      Ohio     Grand Rapids   \n",
       "2  November 24, 2016  New York      Sandy Creek   \n",
       "3  November 24, 2016   Florida      Black Point   \n",
       "4  November 23, 2016  Michigan  Powell Township   \n",
       "\n",
       "                                  Address  # Killed  # Injured  Operations  \n",
       "0  6600 block of Eylers Valley Flint Road         1          0         NaN  \n",
       "1                             SR Route 65         1          0         NaN  \n",
       "2                              Kehoe Road         1          0         NaN  \n",
       "3                                     NaN         1          0         NaN  \n",
       "4              North 1311 County Road KCI         1          0         NaN  "
      ]
     },
     "execution_count": 4,
     "metadata": {},
     "output_type": "execute_result"
    }
   ],
   "source": [
    "accDeaths.head()"
   ]
  },
  {
   "cell_type": "code",
   "execution_count": 5,
   "metadata": {},
   "outputs": [
    {
     "data": {
      "text/html": [
       "<div>\n",
       "<style scoped>\n",
       "    .dataframe tbody tr th:only-of-type {\n",
       "        vertical-align: middle;\n",
       "    }\n",
       "\n",
       "    .dataframe tbody tr th {\n",
       "        vertical-align: top;\n",
       "    }\n",
       "\n",
       "    .dataframe thead th {\n",
       "        text-align: right;\n",
       "    }\n",
       "</style>\n",
       "<table border=\"1\" class=\"dataframe\">\n",
       "  <thead>\n",
       "    <tr style=\"text-align: right;\">\n",
       "      <th></th>\n",
       "      <th>Incident Date</th>\n",
       "      <th>State</th>\n",
       "      <th>City Or County</th>\n",
       "      <th>Address</th>\n",
       "      <th># Killed</th>\n",
       "      <th># Injured</th>\n",
       "      <th>Operations</th>\n",
       "    </tr>\n",
       "  </thead>\n",
       "  <tbody>\n",
       "    <tr>\n",
       "      <th>0</th>\n",
       "      <td>November 26, 2016</td>\n",
       "      <td>Florida</td>\n",
       "      <td>Hudson</td>\n",
       "      <td>7031 Oakley Avenue</td>\n",
       "      <td>0</td>\n",
       "      <td>1</td>\n",
       "      <td>NaN</td>\n",
       "    </tr>\n",
       "    <tr>\n",
       "      <th>1</th>\n",
       "      <td>November 25, 2016</td>\n",
       "      <td>Montana</td>\n",
       "      <td>Billings</td>\n",
       "      <td>308 6th Avenue North</td>\n",
       "      <td>0</td>\n",
       "      <td>2</td>\n",
       "      <td>NaN</td>\n",
       "    </tr>\n",
       "    <tr>\n",
       "      <th>2</th>\n",
       "      <td>November 25, 2016</td>\n",
       "      <td>Arizona</td>\n",
       "      <td>Tucson</td>\n",
       "      <td>5850 East Broadway Blvd</td>\n",
       "      <td>0</td>\n",
       "      <td>1</td>\n",
       "      <td>NaN</td>\n",
       "    </tr>\n",
       "    <tr>\n",
       "      <th>3</th>\n",
       "      <td>November 25, 2016</td>\n",
       "      <td>California</td>\n",
       "      <td>San Diego</td>\n",
       "      <td>4333 Home Avenue</td>\n",
       "      <td>0</td>\n",
       "      <td>2</td>\n",
       "      <td>NaN</td>\n",
       "    </tr>\n",
       "    <tr>\n",
       "      <th>4</th>\n",
       "      <td>November 24, 2016</td>\n",
       "      <td>Pennsylvania</td>\n",
       "      <td>Philadelphia</td>\n",
       "      <td>3500 N 9th Street</td>\n",
       "      <td>0</td>\n",
       "      <td>1</td>\n",
       "      <td>NaN</td>\n",
       "    </tr>\n",
       "  </tbody>\n",
       "</table>\n",
       "</div>"
      ],
      "text/plain": [
       "       Incident Date         State City Or County                  Address  \\\n",
       "0  November 26, 2016       Florida         Hudson       7031 Oakley Avenue   \n",
       "1  November 25, 2016       Montana       Billings     308 6th Avenue North   \n",
       "2  November 25, 2016       Arizona         Tucson  5850 East Broadway Blvd   \n",
       "3  November 25, 2016    California      San Diego         4333 Home Avenue   \n",
       "4  November 24, 2016  Pennsylvania   Philadelphia        3500 N 9th Street   \n",
       "\n",
       "   # Killed  # Injured  Operations  \n",
       "0         0          1         NaN  \n",
       "1         0          2         NaN  \n",
       "2         0          1         NaN  \n",
       "3         0          2         NaN  \n",
       "4         0          1         NaN  "
      ]
     },
     "execution_count": 5,
     "metadata": {},
     "output_type": "execute_result"
    }
   ],
   "source": [
    "accInjured.head()"
   ]
  },
  {
   "cell_type": "markdown",
   "metadata": {},
   "source": [
    "The 'Operations' column is filled with 'NaN' values and is useless. Will drop it from each dataframe"
   ]
  },
  {
   "cell_type": "code",
   "execution_count": 6,
   "metadata": {},
   "outputs": [],
   "source": [
    "accDeaths = accDeaths.drop('Operations', axis=1)\n",
    "accChildDeaths = accChildDeaths.drop('Operations', axis=1)\n",
    "accTeenDeaths = accTeenDeaths.drop('Operations', axis=1)\n",
    "accInjured = accInjured.drop('Operations', axis=1)\n",
    "accChildInjured = accChildInjured.drop('Operations', axis=1)\n",
    "accTeenInjured = accTeenInjured.drop('Operations', axis=1)"
   ]
  },
  {
   "cell_type": "code",
   "execution_count": 7,
   "metadata": {},
   "outputs": [
    {
     "data": {
      "text/html": [
       "<div>\n",
       "<style scoped>\n",
       "    .dataframe tbody tr th:only-of-type {\n",
       "        vertical-align: middle;\n",
       "    }\n",
       "\n",
       "    .dataframe tbody tr th {\n",
       "        vertical-align: top;\n",
       "    }\n",
       "\n",
       "    .dataframe thead th {\n",
       "        text-align: right;\n",
       "    }\n",
       "</style>\n",
       "<table border=\"1\" class=\"dataframe\">\n",
       "  <thead>\n",
       "    <tr style=\"text-align: right;\">\n",
       "      <th></th>\n",
       "      <th># Killed</th>\n",
       "      <th># Injured</th>\n",
       "    </tr>\n",
       "  </thead>\n",
       "  <tbody>\n",
       "    <tr>\n",
       "      <th>count</th>\n",
       "      <td>500.000000</td>\n",
       "      <td>500.000000</td>\n",
       "    </tr>\n",
       "    <tr>\n",
       "      <th>mean</th>\n",
       "      <td>1.012000</td>\n",
       "      <td>0.034000</td>\n",
       "    </tr>\n",
       "    <tr>\n",
       "      <th>std</th>\n",
       "      <td>0.141052</td>\n",
       "      <td>0.211976</td>\n",
       "    </tr>\n",
       "    <tr>\n",
       "      <th>min</th>\n",
       "      <td>0.000000</td>\n",
       "      <td>0.000000</td>\n",
       "    </tr>\n",
       "    <tr>\n",
       "      <th>25%</th>\n",
       "      <td>1.000000</td>\n",
       "      <td>0.000000</td>\n",
       "    </tr>\n",
       "    <tr>\n",
       "      <th>50%</th>\n",
       "      <td>1.000000</td>\n",
       "      <td>0.000000</td>\n",
       "    </tr>\n",
       "    <tr>\n",
       "      <th>75%</th>\n",
       "      <td>1.000000</td>\n",
       "      <td>0.000000</td>\n",
       "    </tr>\n",
       "    <tr>\n",
       "      <th>max</th>\n",
       "      <td>3.000000</td>\n",
       "      <td>2.000000</td>\n",
       "    </tr>\n",
       "  </tbody>\n",
       "</table>\n",
       "</div>"
      ],
      "text/plain": [
       "         # Killed   # Injured\n",
       "count  500.000000  500.000000\n",
       "mean     1.012000    0.034000\n",
       "std      0.141052    0.211976\n",
       "min      0.000000    0.000000\n",
       "25%      1.000000    0.000000\n",
       "50%      1.000000    0.000000\n",
       "75%      1.000000    0.000000\n",
       "max      3.000000    2.000000"
      ]
     },
     "execution_count": 7,
     "metadata": {},
     "output_type": "execute_result"
    }
   ],
   "source": [
    "accDeaths.describe()"
   ]
  },
  {
   "cell_type": "code",
   "execution_count": 8,
   "metadata": {},
   "outputs": [
    {
     "data": {
      "text/plain": [
       "41"
      ]
     },
     "execution_count": 8,
     "metadata": {},
     "output_type": "execute_result"
    }
   ],
   "source": [
    "accDeaths['Address'].isnull().sum()"
   ]
  },
  {
   "cell_type": "code",
   "execution_count": 9,
   "metadata": {},
   "outputs": [],
   "source": [
    "accDeaths = accDeaths.dropna()"
   ]
  },
  {
   "cell_type": "code",
   "execution_count": 10,
   "metadata": {},
   "outputs": [
    {
     "data": {
      "text/plain": [
       "(459, 6)"
      ]
     },
     "execution_count": 10,
     "metadata": {},
     "output_type": "execute_result"
    }
   ],
   "source": [
    "accDeaths.shape"
   ]
  },
  {
   "cell_type": "code",
   "execution_count": 11,
   "metadata": {},
   "outputs": [
    {
     "data": {
      "text/html": [
       "<div>\n",
       "<style scoped>\n",
       "    .dataframe tbody tr th:only-of-type {\n",
       "        vertical-align: middle;\n",
       "    }\n",
       "\n",
       "    .dataframe tbody tr th {\n",
       "        vertical-align: top;\n",
       "    }\n",
       "\n",
       "    .dataframe thead th {\n",
       "        text-align: right;\n",
       "    }\n",
       "</style>\n",
       "<table border=\"1\" class=\"dataframe\">\n",
       "  <thead>\n",
       "    <tr style=\"text-align: right;\">\n",
       "      <th></th>\n",
       "      <th># Killed</th>\n",
       "      <th># Injured</th>\n",
       "    </tr>\n",
       "  </thead>\n",
       "  <tbody>\n",
       "    <tr>\n",
       "      <th>count</th>\n",
       "      <td>206.000000</td>\n",
       "      <td>206.000000</td>\n",
       "    </tr>\n",
       "    <tr>\n",
       "      <th>mean</th>\n",
       "      <td>1.000000</td>\n",
       "      <td>0.043689</td>\n",
       "    </tr>\n",
       "    <tr>\n",
       "      <th>std</th>\n",
       "      <td>0.098773</td>\n",
       "      <td>0.247985</td>\n",
       "    </tr>\n",
       "    <tr>\n",
       "      <th>min</th>\n",
       "      <td>0.000000</td>\n",
       "      <td>0.000000</td>\n",
       "    </tr>\n",
       "    <tr>\n",
       "      <th>25%</th>\n",
       "      <td>1.000000</td>\n",
       "      <td>0.000000</td>\n",
       "    </tr>\n",
       "    <tr>\n",
       "      <th>50%</th>\n",
       "      <td>1.000000</td>\n",
       "      <td>0.000000</td>\n",
       "    </tr>\n",
       "    <tr>\n",
       "      <th>75%</th>\n",
       "      <td>1.000000</td>\n",
       "      <td>0.000000</td>\n",
       "    </tr>\n",
       "    <tr>\n",
       "      <th>max</th>\n",
       "      <td>2.000000</td>\n",
       "      <td>2.000000</td>\n",
       "    </tr>\n",
       "  </tbody>\n",
       "</table>\n",
       "</div>"
      ],
      "text/plain": [
       "         # Killed   # Injured\n",
       "count  206.000000  206.000000\n",
       "mean     1.000000    0.043689\n",
       "std      0.098773    0.247985\n",
       "min      0.000000    0.000000\n",
       "25%      1.000000    0.000000\n",
       "50%      1.000000    0.000000\n",
       "75%      1.000000    0.000000\n",
       "max      2.000000    2.000000"
      ]
     },
     "execution_count": 11,
     "metadata": {},
     "output_type": "execute_result"
    }
   ],
   "source": [
    "accChildDeaths.describe()"
   ]
  },
  {
   "cell_type": "code",
   "execution_count": 12,
   "metadata": {},
   "outputs": [
    {
     "data": {
      "text/plain": [
       "Incident Date     False\n",
       "State             False\n",
       "City Or County    False\n",
       "Address            True\n",
       "# Killed          False\n",
       "# Injured         False\n",
       "dtype: bool"
      ]
     },
     "execution_count": 12,
     "metadata": {},
     "output_type": "execute_result"
    }
   ],
   "source": [
    "accChildDeaths.isnull().any()"
   ]
  },
  {
   "cell_type": "code",
   "execution_count": 13,
   "metadata": {},
   "outputs": [],
   "source": [
    "accChildDeaths = accChildDeaths.dropna()"
   ]
  },
  {
   "cell_type": "code",
   "execution_count": 14,
   "metadata": {},
   "outputs": [
    {
     "data": {
      "text/html": [
       "<div>\n",
       "<style scoped>\n",
       "    .dataframe tbody tr th:only-of-type {\n",
       "        vertical-align: middle;\n",
       "    }\n",
       "\n",
       "    .dataframe tbody tr th {\n",
       "        vertical-align: top;\n",
       "    }\n",
       "\n",
       "    .dataframe thead th {\n",
       "        text-align: right;\n",
       "    }\n",
       "</style>\n",
       "<table border=\"1\" class=\"dataframe\">\n",
       "  <thead>\n",
       "    <tr style=\"text-align: right;\">\n",
       "      <th></th>\n",
       "      <th># Killed</th>\n",
       "      <th># Injured</th>\n",
       "    </tr>\n",
       "  </thead>\n",
       "  <tbody>\n",
       "    <tr>\n",
       "      <th>count</th>\n",
       "      <td>192.000000</td>\n",
       "      <td>192.000000</td>\n",
       "    </tr>\n",
       "    <tr>\n",
       "      <th>mean</th>\n",
       "      <td>1.000000</td>\n",
       "      <td>0.046875</td>\n",
       "    </tr>\n",
       "    <tr>\n",
       "      <th>std</th>\n",
       "      <td>0.102329</td>\n",
       "      <td>0.256620</td>\n",
       "    </tr>\n",
       "    <tr>\n",
       "      <th>min</th>\n",
       "      <td>0.000000</td>\n",
       "      <td>0.000000</td>\n",
       "    </tr>\n",
       "    <tr>\n",
       "      <th>25%</th>\n",
       "      <td>1.000000</td>\n",
       "      <td>0.000000</td>\n",
       "    </tr>\n",
       "    <tr>\n",
       "      <th>50%</th>\n",
       "      <td>1.000000</td>\n",
       "      <td>0.000000</td>\n",
       "    </tr>\n",
       "    <tr>\n",
       "      <th>75%</th>\n",
       "      <td>1.000000</td>\n",
       "      <td>0.000000</td>\n",
       "    </tr>\n",
       "    <tr>\n",
       "      <th>max</th>\n",
       "      <td>2.000000</td>\n",
       "      <td>2.000000</td>\n",
       "    </tr>\n",
       "  </tbody>\n",
       "</table>\n",
       "</div>"
      ],
      "text/plain": [
       "         # Killed   # Injured\n",
       "count  192.000000  192.000000\n",
       "mean     1.000000    0.046875\n",
       "std      0.102329    0.256620\n",
       "min      0.000000    0.000000\n",
       "25%      1.000000    0.000000\n",
       "50%      1.000000    0.000000\n",
       "75%      1.000000    0.000000\n",
       "max      2.000000    2.000000"
      ]
     },
     "execution_count": 14,
     "metadata": {},
     "output_type": "execute_result"
    }
   ],
   "source": [
    "accChildDeaths.describe()"
   ]
  },
  {
   "cell_type": "code",
   "execution_count": 15,
   "metadata": {},
   "outputs": [],
   "source": [
    "accChildDeaths['isChild'] = 1"
   ]
  },
  {
   "cell_type": "code",
   "execution_count": 16,
   "metadata": {},
   "outputs": [],
   "source": [
    "accDeaths['isChild'] = 0\n",
    "accDeaths['isTeen'] = 0\n",
    "accChildDeaths['isTeen'] = 0"
   ]
  },
  {
   "cell_type": "markdown",
   "metadata": {},
   "source": [
    "Created a column to mark whether a record was from the child or the teen dataset. Could be useful if I want to filter on that criteria."
   ]
  },
  {
   "cell_type": "code",
   "execution_count": 17,
   "metadata": {},
   "outputs": [
    {
     "data": {
      "text/html": [
       "<div>\n",
       "<style scoped>\n",
       "    .dataframe tbody tr th:only-of-type {\n",
       "        vertical-align: middle;\n",
       "    }\n",
       "\n",
       "    .dataframe tbody tr th {\n",
       "        vertical-align: top;\n",
       "    }\n",
       "\n",
       "    .dataframe thead th {\n",
       "        text-align: right;\n",
       "    }\n",
       "</style>\n",
       "<table border=\"1\" class=\"dataframe\">\n",
       "  <thead>\n",
       "    <tr style=\"text-align: right;\">\n",
       "      <th></th>\n",
       "      <th># Killed</th>\n",
       "      <th># Injured</th>\n",
       "    </tr>\n",
       "  </thead>\n",
       "  <tbody>\n",
       "    <tr>\n",
       "      <th>count</th>\n",
       "      <td>290.000000</td>\n",
       "      <td>290.000000</td>\n",
       "    </tr>\n",
       "    <tr>\n",
       "      <th>mean</th>\n",
       "      <td>1.013793</td>\n",
       "      <td>0.020690</td>\n",
       "    </tr>\n",
       "    <tr>\n",
       "      <th>std</th>\n",
       "      <td>0.165803</td>\n",
       "      <td>0.165082</td>\n",
       "    </tr>\n",
       "    <tr>\n",
       "      <th>min</th>\n",
       "      <td>0.000000</td>\n",
       "      <td>0.000000</td>\n",
       "    </tr>\n",
       "    <tr>\n",
       "      <th>25%</th>\n",
       "      <td>1.000000</td>\n",
       "      <td>0.000000</td>\n",
       "    </tr>\n",
       "    <tr>\n",
       "      <th>50%</th>\n",
       "      <td>1.000000</td>\n",
       "      <td>0.000000</td>\n",
       "    </tr>\n",
       "    <tr>\n",
       "      <th>75%</th>\n",
       "      <td>1.000000</td>\n",
       "      <td>0.000000</td>\n",
       "    </tr>\n",
       "    <tr>\n",
       "      <th>max</th>\n",
       "      <td>3.000000</td>\n",
       "      <td>2.000000</td>\n",
       "    </tr>\n",
       "  </tbody>\n",
       "</table>\n",
       "</div>"
      ],
      "text/plain": [
       "         # Killed   # Injured\n",
       "count  290.000000  290.000000\n",
       "mean     1.013793    0.020690\n",
       "std      0.165803    0.165082\n",
       "min      0.000000    0.000000\n",
       "25%      1.000000    0.000000\n",
       "50%      1.000000    0.000000\n",
       "75%      1.000000    0.000000\n",
       "max      3.000000    2.000000"
      ]
     },
     "execution_count": 17,
     "metadata": {},
     "output_type": "execute_result"
    }
   ],
   "source": [
    "accTeenDeaths.describe()"
   ]
  },
  {
   "cell_type": "code",
   "execution_count": 18,
   "metadata": {},
   "outputs": [
    {
     "data": {
      "text/plain": [
       "Incident Date     False\n",
       "State             False\n",
       "City Or County    False\n",
       "Address            True\n",
       "# Killed          False\n",
       "# Injured         False\n",
       "dtype: bool"
      ]
     },
     "execution_count": 18,
     "metadata": {},
     "output_type": "execute_result"
    }
   ],
   "source": [
    "accTeenDeaths.isnull().any()"
   ]
  },
  {
   "cell_type": "code",
   "execution_count": 19,
   "metadata": {},
   "outputs": [],
   "source": [
    "accTeenDeaths = accTeenDeaths.dropna()"
   ]
  },
  {
   "cell_type": "code",
   "execution_count": 20,
   "metadata": {},
   "outputs": [
    {
     "data": {
      "text/html": [
       "<div>\n",
       "<style scoped>\n",
       "    .dataframe tbody tr th:only-of-type {\n",
       "        vertical-align: middle;\n",
       "    }\n",
       "\n",
       "    .dataframe tbody tr th {\n",
       "        vertical-align: top;\n",
       "    }\n",
       "\n",
       "    .dataframe thead th {\n",
       "        text-align: right;\n",
       "    }\n",
       "</style>\n",
       "<table border=\"1\" class=\"dataframe\">\n",
       "  <thead>\n",
       "    <tr style=\"text-align: right;\">\n",
       "      <th></th>\n",
       "      <th># Killed</th>\n",
       "      <th># Injured</th>\n",
       "    </tr>\n",
       "  </thead>\n",
       "  <tbody>\n",
       "    <tr>\n",
       "      <th>count</th>\n",
       "      <td>278.000000</td>\n",
       "      <td>278.000000</td>\n",
       "    </tr>\n",
       "    <tr>\n",
       "      <th>mean</th>\n",
       "      <td>1.014388</td>\n",
       "      <td>0.021583</td>\n",
       "    </tr>\n",
       "    <tr>\n",
       "      <th>std</th>\n",
       "      <td>0.169331</td>\n",
       "      <td>0.168563</td>\n",
       "    </tr>\n",
       "    <tr>\n",
       "      <th>min</th>\n",
       "      <td>0.000000</td>\n",
       "      <td>0.000000</td>\n",
       "    </tr>\n",
       "    <tr>\n",
       "      <th>25%</th>\n",
       "      <td>1.000000</td>\n",
       "      <td>0.000000</td>\n",
       "    </tr>\n",
       "    <tr>\n",
       "      <th>50%</th>\n",
       "      <td>1.000000</td>\n",
       "      <td>0.000000</td>\n",
       "    </tr>\n",
       "    <tr>\n",
       "      <th>75%</th>\n",
       "      <td>1.000000</td>\n",
       "      <td>0.000000</td>\n",
       "    </tr>\n",
       "    <tr>\n",
       "      <th>max</th>\n",
       "      <td>3.000000</td>\n",
       "      <td>2.000000</td>\n",
       "    </tr>\n",
       "  </tbody>\n",
       "</table>\n",
       "</div>"
      ],
      "text/plain": [
       "         # Killed   # Injured\n",
       "count  278.000000  278.000000\n",
       "mean     1.014388    0.021583\n",
       "std      0.169331    0.168563\n",
       "min      0.000000    0.000000\n",
       "25%      1.000000    0.000000\n",
       "50%      1.000000    0.000000\n",
       "75%      1.000000    0.000000\n",
       "max      3.000000    2.000000"
      ]
     },
     "execution_count": 20,
     "metadata": {},
     "output_type": "execute_result"
    }
   ],
   "source": [
    "accTeenDeaths.describe()"
   ]
  },
  {
   "cell_type": "code",
   "execution_count": 21,
   "metadata": {},
   "outputs": [],
   "source": [
    "accTeenDeaths['isTeen'] = 1\n",
    "accTeenDeaths['isChild'] = 0"
   ]
  },
  {
   "cell_type": "markdown",
   "metadata": {},
   "source": [
    "Was looking at some of the statistics behind each dataset and getting rid of any null values. Some addresses were missing in each dataset so I dropped those records."
   ]
  },
  {
   "cell_type": "code",
   "execution_count": 22,
   "metadata": {},
   "outputs": [
    {
     "data": {
      "text/html": [
       "<div>\n",
       "<style scoped>\n",
       "    .dataframe tbody tr th:only-of-type {\n",
       "        vertical-align: middle;\n",
       "    }\n",
       "\n",
       "    .dataframe tbody tr th {\n",
       "        vertical-align: top;\n",
       "    }\n",
       "\n",
       "    .dataframe thead th {\n",
       "        text-align: right;\n",
       "    }\n",
       "</style>\n",
       "<table border=\"1\" class=\"dataframe\">\n",
       "  <thead>\n",
       "    <tr style=\"text-align: right;\">\n",
       "      <th></th>\n",
       "      <th>Incident Date</th>\n",
       "      <th>State</th>\n",
       "      <th>City Or County</th>\n",
       "      <th>Address</th>\n",
       "      <th># Killed</th>\n",
       "      <th># Injured</th>\n",
       "      <th>isTeen</th>\n",
       "      <th>isChild</th>\n",
       "    </tr>\n",
       "  </thead>\n",
       "  <tbody>\n",
       "    <tr>\n",
       "      <th>0</th>\n",
       "      <td>November 22, 2016</td>\n",
       "      <td>Indiana</td>\n",
       "      <td>Anderson</td>\n",
       "      <td>1600 block of West 7th Street</td>\n",
       "      <td>1</td>\n",
       "      <td>0</td>\n",
       "      <td>1</td>\n",
       "      <td>0</td>\n",
       "    </tr>\n",
       "    <tr>\n",
       "      <th>1</th>\n",
       "      <td>November 22, 2016</td>\n",
       "      <td>Virginia</td>\n",
       "      <td>Christiansburg</td>\n",
       "      <td>700 block of Dabney Road</td>\n",
       "      <td>1</td>\n",
       "      <td>0</td>\n",
       "      <td>1</td>\n",
       "      <td>0</td>\n",
       "    </tr>\n",
       "    <tr>\n",
       "      <th>2</th>\n",
       "      <td>November 12, 2016</td>\n",
       "      <td>Colorado</td>\n",
       "      <td>La Salle</td>\n",
       "      <td>18000 block of County Road 43</td>\n",
       "      <td>1</td>\n",
       "      <td>0</td>\n",
       "      <td>1</td>\n",
       "      <td>0</td>\n",
       "    </tr>\n",
       "    <tr>\n",
       "      <th>4</th>\n",
       "      <td>November 8, 2016</td>\n",
       "      <td>Virginia</td>\n",
       "      <td>Hampton</td>\n",
       "      <td>500 block of Pennsylvania Ave</td>\n",
       "      <td>1</td>\n",
       "      <td>0</td>\n",
       "      <td>1</td>\n",
       "      <td>0</td>\n",
       "    </tr>\n",
       "    <tr>\n",
       "      <th>5</th>\n",
       "      <td>November 7, 2016</td>\n",
       "      <td>Pennsylvania</td>\n",
       "      <td>New Kensington (Arnold)</td>\n",
       "      <td>1417 Orchard Ave</td>\n",
       "      <td>1</td>\n",
       "      <td>0</td>\n",
       "      <td>1</td>\n",
       "      <td>0</td>\n",
       "    </tr>\n",
       "  </tbody>\n",
       "</table>\n",
       "</div>"
      ],
      "text/plain": [
       "       Incident Date         State           City Or County  \\\n",
       "0  November 22, 2016       Indiana                 Anderson   \n",
       "1  November 22, 2016      Virginia           Christiansburg   \n",
       "2  November 12, 2016      Colorado                 La Salle   \n",
       "4   November 8, 2016      Virginia                  Hampton   \n",
       "5   November 7, 2016  Pennsylvania  New Kensington (Arnold)   \n",
       "\n",
       "                         Address  # Killed  # Injured  isTeen  isChild  \n",
       "0  1600 block of West 7th Street         1          0       1        0  \n",
       "1       700 block of Dabney Road         1          0       1        0  \n",
       "2  18000 block of County Road 43         1          0       1        0  \n",
       "4  500 block of Pennsylvania Ave         1          0       1        0  \n",
       "5               1417 Orchard Ave         1          0       1        0  "
      ]
     },
     "execution_count": 22,
     "metadata": {},
     "output_type": "execute_result"
    }
   ],
   "source": [
    "accTeenDeaths.head()"
   ]
  },
  {
   "cell_type": "code",
   "execution_count": 23,
   "metadata": {},
   "outputs": [],
   "source": [
    "child_rows = accDeaths.merge(accChildDeaths, how='inner', on='Address')\n",
    "teen_rows = accDeaths.merge(accTeenDeaths, how='inner', on='Address')\n",
    "\n",
    "accDeaths['isChild'] = accDeaths['Address'].isin(child_rows['Address'])\n",
    "accDeaths['isTeen'] = accDeaths['Address'].isin(teen_rows['Address'])"
   ]
  },
  {
   "cell_type": "markdown",
   "metadata": {},
   "source": [
    "Some of the records in the child and teen dataset were in the accidental death dataset. So I updated the 'isChild' and 'isTeen' field in the accidental death dataset to indicate if that record was found in one of the other datasets. Then cast the boolean value as an integer."
   ]
  },
  {
   "cell_type": "code",
   "execution_count": 24,
   "metadata": {},
   "outputs": [],
   "source": [
    "accDeaths.isChild = accDeaths.isChild.astype(int)\n",
    "accDeaths.isTeen = accDeaths.isTeen.astype(int)"
   ]
  },
  {
   "cell_type": "code",
   "execution_count": 25,
   "metadata": {},
   "outputs": [
    {
     "data": {
      "text/html": [
       "<div>\n",
       "<style scoped>\n",
       "    .dataframe tbody tr th:only-of-type {\n",
       "        vertical-align: middle;\n",
       "    }\n",
       "\n",
       "    .dataframe tbody tr th {\n",
       "        vertical-align: top;\n",
       "    }\n",
       "\n",
       "    .dataframe thead th {\n",
       "        text-align: right;\n",
       "    }\n",
       "</style>\n",
       "<table border=\"1\" class=\"dataframe\">\n",
       "  <thead>\n",
       "    <tr style=\"text-align: right;\">\n",
       "      <th></th>\n",
       "      <th># Killed</th>\n",
       "      <th># Injured</th>\n",
       "      <th>isChild</th>\n",
       "      <th>isTeen</th>\n",
       "    </tr>\n",
       "  </thead>\n",
       "  <tbody>\n",
       "    <tr>\n",
       "      <th>count</th>\n",
       "      <td>459.000000</td>\n",
       "      <td>459.000000</td>\n",
       "      <td>459.000000</td>\n",
       "      <td>459.000000</td>\n",
       "    </tr>\n",
       "    <tr>\n",
       "      <th>mean</th>\n",
       "      <td>1.013072</td>\n",
       "      <td>0.037037</td>\n",
       "      <td>0.191721</td>\n",
       "      <td>0.283224</td>\n",
       "    </tr>\n",
       "    <tr>\n",
       "      <th>std</th>\n",
       "      <td>0.147183</td>\n",
       "      <td>0.221006</td>\n",
       "      <td>0.394084</td>\n",
       "      <td>0.451056</td>\n",
       "    </tr>\n",
       "    <tr>\n",
       "      <th>min</th>\n",
       "      <td>0.000000</td>\n",
       "      <td>0.000000</td>\n",
       "      <td>0.000000</td>\n",
       "      <td>0.000000</td>\n",
       "    </tr>\n",
       "    <tr>\n",
       "      <th>25%</th>\n",
       "      <td>1.000000</td>\n",
       "      <td>0.000000</td>\n",
       "      <td>0.000000</td>\n",
       "      <td>0.000000</td>\n",
       "    </tr>\n",
       "    <tr>\n",
       "      <th>50%</th>\n",
       "      <td>1.000000</td>\n",
       "      <td>0.000000</td>\n",
       "      <td>0.000000</td>\n",
       "      <td>0.000000</td>\n",
       "    </tr>\n",
       "    <tr>\n",
       "      <th>75%</th>\n",
       "      <td>1.000000</td>\n",
       "      <td>0.000000</td>\n",
       "      <td>0.000000</td>\n",
       "      <td>1.000000</td>\n",
       "    </tr>\n",
       "    <tr>\n",
       "      <th>max</th>\n",
       "      <td>3.000000</td>\n",
       "      <td>2.000000</td>\n",
       "      <td>1.000000</td>\n",
       "      <td>1.000000</td>\n",
       "    </tr>\n",
       "  </tbody>\n",
       "</table>\n",
       "</div>"
      ],
      "text/plain": [
       "         # Killed   # Injured     isChild      isTeen\n",
       "count  459.000000  459.000000  459.000000  459.000000\n",
       "mean     1.013072    0.037037    0.191721    0.283224\n",
       "std      0.147183    0.221006    0.394084    0.451056\n",
       "min      0.000000    0.000000    0.000000    0.000000\n",
       "25%      1.000000    0.000000    0.000000    0.000000\n",
       "50%      1.000000    0.000000    0.000000    0.000000\n",
       "75%      1.000000    0.000000    0.000000    1.000000\n",
       "max      3.000000    2.000000    1.000000    1.000000"
      ]
     },
     "execution_count": 25,
     "metadata": {},
     "output_type": "execute_result"
    }
   ],
   "source": [
    "accDeaths.describe()"
   ]
  },
  {
   "cell_type": "code",
   "execution_count": 26,
   "metadata": {},
   "outputs": [],
   "source": [
    "not_dup_child = ~accChildDeaths['Address'].isin(child_rows['Address'])\n",
    "not_dup_teen = ~accTeenDeaths['Address'].isin(teen_rows['Address'])"
   ]
  },
  {
   "cell_type": "code",
   "execution_count": 27,
   "metadata": {},
   "outputs": [],
   "source": [
    "newChildData = accChildDeaths[not_dup_child]"
   ]
  },
  {
   "cell_type": "code",
   "execution_count": 28,
   "metadata": {},
   "outputs": [
    {
     "data": {
      "text/html": [
       "<div>\n",
       "<style scoped>\n",
       "    .dataframe tbody tr th:only-of-type {\n",
       "        vertical-align: middle;\n",
       "    }\n",
       "\n",
       "    .dataframe tbody tr th {\n",
       "        vertical-align: top;\n",
       "    }\n",
       "\n",
       "    .dataframe thead th {\n",
       "        text-align: right;\n",
       "    }\n",
       "</style>\n",
       "<table border=\"1\" class=\"dataframe\">\n",
       "  <thead>\n",
       "    <tr style=\"text-align: right;\">\n",
       "      <th></th>\n",
       "      <th># Killed</th>\n",
       "      <th># Injured</th>\n",
       "      <th>isTeen</th>\n",
       "      <th>isChild</th>\n",
       "    </tr>\n",
       "  </thead>\n",
       "  <tbody>\n",
       "    <tr>\n",
       "      <th>count</th>\n",
       "      <td>148.0</td>\n",
       "      <td>148.000000</td>\n",
       "      <td>148.0</td>\n",
       "      <td>148.0</td>\n",
       "    </tr>\n",
       "    <tr>\n",
       "      <th>mean</th>\n",
       "      <td>1.0</td>\n",
       "      <td>0.006757</td>\n",
       "      <td>1.0</td>\n",
       "      <td>0.0</td>\n",
       "    </tr>\n",
       "    <tr>\n",
       "      <th>std</th>\n",
       "      <td>0.0</td>\n",
       "      <td>0.082199</td>\n",
       "      <td>0.0</td>\n",
       "      <td>0.0</td>\n",
       "    </tr>\n",
       "    <tr>\n",
       "      <th>min</th>\n",
       "      <td>1.0</td>\n",
       "      <td>0.000000</td>\n",
       "      <td>1.0</td>\n",
       "      <td>0.0</td>\n",
       "    </tr>\n",
       "    <tr>\n",
       "      <th>25%</th>\n",
       "      <td>1.0</td>\n",
       "      <td>0.000000</td>\n",
       "      <td>1.0</td>\n",
       "      <td>0.0</td>\n",
       "    </tr>\n",
       "    <tr>\n",
       "      <th>50%</th>\n",
       "      <td>1.0</td>\n",
       "      <td>0.000000</td>\n",
       "      <td>1.0</td>\n",
       "      <td>0.0</td>\n",
       "    </tr>\n",
       "    <tr>\n",
       "      <th>75%</th>\n",
       "      <td>1.0</td>\n",
       "      <td>0.000000</td>\n",
       "      <td>1.0</td>\n",
       "      <td>0.0</td>\n",
       "    </tr>\n",
       "    <tr>\n",
       "      <th>max</th>\n",
       "      <td>1.0</td>\n",
       "      <td>1.000000</td>\n",
       "      <td>1.0</td>\n",
       "      <td>0.0</td>\n",
       "    </tr>\n",
       "  </tbody>\n",
       "</table>\n",
       "</div>"
      ],
      "text/plain": [
       "       # Killed   # Injured  isTeen  isChild\n",
       "count     148.0  148.000000   148.0    148.0\n",
       "mean        1.0    0.006757     1.0      0.0\n",
       "std         0.0    0.082199     0.0      0.0\n",
       "min         1.0    0.000000     1.0      0.0\n",
       "25%         1.0    0.000000     1.0      0.0\n",
       "50%         1.0    0.000000     1.0      0.0\n",
       "75%         1.0    0.000000     1.0      0.0\n",
       "max         1.0    1.000000     1.0      0.0"
      ]
     },
     "execution_count": 28,
     "metadata": {},
     "output_type": "execute_result"
    }
   ],
   "source": [
    "newTeenData = accTeenDeaths[not_dup_teen]\n",
    "newTeenData.describe()"
   ]
  },
  {
   "cell_type": "markdown",
   "metadata": {},
   "source": [
    "Created new Child and Teen datasets to exclude any records that were found in the accidental deaths dataset."
   ]
  },
  {
   "cell_type": "code",
   "execution_count": 29,
   "metadata": {},
   "outputs": [],
   "source": [
    "updatedAccDeaths = pd.concat([accDeaths, newTeenData, newChildData])"
   ]
  },
  {
   "cell_type": "markdown",
   "metadata": {},
   "source": [
    "Updated the accidental deaths dataset to include record from Child and Teen datasets that weren't found in the accidental deaths dataset. This should give us a more complete dataset for me to work with."
   ]
  },
  {
   "cell_type": "code",
   "execution_count": 30,
   "metadata": {},
   "outputs": [
    {
     "data": {
      "text/html": [
       "<div>\n",
       "<style scoped>\n",
       "    .dataframe tbody tr th:only-of-type {\n",
       "        vertical-align: middle;\n",
       "    }\n",
       "\n",
       "    .dataframe tbody tr th {\n",
       "        vertical-align: top;\n",
       "    }\n",
       "\n",
       "    .dataframe thead th {\n",
       "        text-align: right;\n",
       "    }\n",
       "</style>\n",
       "<table border=\"1\" class=\"dataframe\">\n",
       "  <thead>\n",
       "    <tr style=\"text-align: right;\">\n",
       "      <th></th>\n",
       "      <th># Injured</th>\n",
       "      <th># Killed</th>\n",
       "      <th>Address</th>\n",
       "      <th>City Or County</th>\n",
       "      <th>Incident Date</th>\n",
       "      <th>State</th>\n",
       "      <th>isChild</th>\n",
       "      <th>isTeen</th>\n",
       "    </tr>\n",
       "  </thead>\n",
       "  <tbody>\n",
       "    <tr>\n",
       "      <th>0</th>\n",
       "      <td>0</td>\n",
       "      <td>1</td>\n",
       "      <td>6600 block of Eylers Valley Flint Road</td>\n",
       "      <td>Sabillasville</td>\n",
       "      <td>November 26, 2016</td>\n",
       "      <td>Maryland</td>\n",
       "      <td>0</td>\n",
       "      <td>0</td>\n",
       "    </tr>\n",
       "    <tr>\n",
       "      <th>1</th>\n",
       "      <td>0</td>\n",
       "      <td>1</td>\n",
       "      <td>SR Route 65</td>\n",
       "      <td>Grand Rapids</td>\n",
       "      <td>November 26, 2016</td>\n",
       "      <td>Ohio</td>\n",
       "      <td>0</td>\n",
       "      <td>0</td>\n",
       "    </tr>\n",
       "    <tr>\n",
       "      <th>2</th>\n",
       "      <td>0</td>\n",
       "      <td>1</td>\n",
       "      <td>Kehoe Road</td>\n",
       "      <td>Sandy Creek</td>\n",
       "      <td>November 24, 2016</td>\n",
       "      <td>New York</td>\n",
       "      <td>0</td>\n",
       "      <td>0</td>\n",
       "    </tr>\n",
       "    <tr>\n",
       "      <th>4</th>\n",
       "      <td>0</td>\n",
       "      <td>1</td>\n",
       "      <td>North 1311 County Road KCI</td>\n",
       "      <td>Powell Township</td>\n",
       "      <td>November 23, 2016</td>\n",
       "      <td>Michigan</td>\n",
       "      <td>0</td>\n",
       "      <td>0</td>\n",
       "    </tr>\n",
       "    <tr>\n",
       "      <th>5</th>\n",
       "      <td>0</td>\n",
       "      <td>1</td>\n",
       "      <td>Highway 47 West</td>\n",
       "      <td>Troy</td>\n",
       "      <td>November 23, 2016</td>\n",
       "      <td>West Virginia</td>\n",
       "      <td>1</td>\n",
       "      <td>0</td>\n",
       "    </tr>\n",
       "  </tbody>\n",
       "</table>\n",
       "</div>"
      ],
      "text/plain": [
       "   # Injured  # Killed                                 Address  \\\n",
       "0          0         1  6600 block of Eylers Valley Flint Road   \n",
       "1          0         1                             SR Route 65   \n",
       "2          0         1                              Kehoe Road   \n",
       "4          0         1              North 1311 County Road KCI   \n",
       "5          0         1                         Highway 47 West   \n",
       "\n",
       "    City Or County      Incident Date          State  isChild  isTeen  \n",
       "0    Sabillasville  November 26, 2016       Maryland        0       0  \n",
       "1     Grand Rapids  November 26, 2016           Ohio        0       0  \n",
       "2      Sandy Creek  November 24, 2016       New York        0       0  \n",
       "4  Powell Township  November 23, 2016       Michigan        0       0  \n",
       "5             Troy  November 23, 2016  West Virginia        1       0  "
      ]
     },
     "execution_count": 30,
     "metadata": {},
     "output_type": "execute_result"
    }
   ],
   "source": [
    "updatedAccDeaths.head()"
   ]
  },
  {
   "cell_type": "code",
   "execution_count": 31,
   "metadata": {},
   "outputs": [
    {
     "data": {
      "text/html": [
       "<div>\n",
       "<style scoped>\n",
       "    .dataframe tbody tr th:only-of-type {\n",
       "        vertical-align: middle;\n",
       "    }\n",
       "\n",
       "    .dataframe tbody tr th {\n",
       "        vertical-align: top;\n",
       "    }\n",
       "\n",
       "    .dataframe thead th {\n",
       "        text-align: right;\n",
       "    }\n",
       "</style>\n",
       "<table border=\"1\" class=\"dataframe\">\n",
       "  <thead>\n",
       "    <tr style=\"text-align: right;\">\n",
       "      <th></th>\n",
       "      <th># Injured</th>\n",
       "      <th># Killed</th>\n",
       "      <th>isChild</th>\n",
       "      <th>isTeen</th>\n",
       "    </tr>\n",
       "  </thead>\n",
       "  <tbody>\n",
       "    <tr>\n",
       "      <th>count</th>\n",
       "      <td>711.000000</td>\n",
       "      <td>711.000000</td>\n",
       "      <td>711.000000</td>\n",
       "      <td>711.000000</td>\n",
       "    </tr>\n",
       "    <tr>\n",
       "      <th>mean</th>\n",
       "      <td>0.030942</td>\n",
       "      <td>1.007032</td>\n",
       "      <td>0.270042</td>\n",
       "      <td>0.390999</td>\n",
       "    </tr>\n",
       "    <tr>\n",
       "      <th>std</th>\n",
       "      <td>0.203211</td>\n",
       "      <td>0.124272</td>\n",
       "      <td>0.444294</td>\n",
       "      <td>0.488318</td>\n",
       "    </tr>\n",
       "    <tr>\n",
       "      <th>min</th>\n",
       "      <td>0.000000</td>\n",
       "      <td>0.000000</td>\n",
       "      <td>0.000000</td>\n",
       "      <td>0.000000</td>\n",
       "    </tr>\n",
       "    <tr>\n",
       "      <th>25%</th>\n",
       "      <td>0.000000</td>\n",
       "      <td>1.000000</td>\n",
       "      <td>0.000000</td>\n",
       "      <td>0.000000</td>\n",
       "    </tr>\n",
       "    <tr>\n",
       "      <th>50%</th>\n",
       "      <td>0.000000</td>\n",
       "      <td>1.000000</td>\n",
       "      <td>0.000000</td>\n",
       "      <td>0.000000</td>\n",
       "    </tr>\n",
       "    <tr>\n",
       "      <th>75%</th>\n",
       "      <td>0.000000</td>\n",
       "      <td>1.000000</td>\n",
       "      <td>1.000000</td>\n",
       "      <td>1.000000</td>\n",
       "    </tr>\n",
       "    <tr>\n",
       "      <th>max</th>\n",
       "      <td>2.000000</td>\n",
       "      <td>3.000000</td>\n",
       "      <td>1.000000</td>\n",
       "      <td>1.000000</td>\n",
       "    </tr>\n",
       "  </tbody>\n",
       "</table>\n",
       "</div>"
      ],
      "text/plain": [
       "        # Injured    # Killed     isChild      isTeen\n",
       "count  711.000000  711.000000  711.000000  711.000000\n",
       "mean     0.030942    1.007032    0.270042    0.390999\n",
       "std      0.203211    0.124272    0.444294    0.488318\n",
       "min      0.000000    0.000000    0.000000    0.000000\n",
       "25%      0.000000    1.000000    0.000000    0.000000\n",
       "50%      0.000000    1.000000    0.000000    0.000000\n",
       "75%      0.000000    1.000000    1.000000    1.000000\n",
       "max      2.000000    3.000000    1.000000    1.000000"
      ]
     },
     "execution_count": 31,
     "metadata": {},
     "output_type": "execute_result"
    }
   ],
   "source": [
    "updatedAccDeaths.describe()"
   ]
  },
  {
   "cell_type": "code",
   "execution_count": 32,
   "metadata": {},
   "outputs": [
    {
     "data": {
      "text/plain": [
       "<matplotlib.axes._subplots.AxesSubplot at 0x11237bac8>"
      ]
     },
     "execution_count": 32,
     "metadata": {},
     "output_type": "execute_result"
    },
    {
     "data": {
      "image/png": "[encoded data removed]",
      "text/plain": [
       "<matplotlib.figure.Figure at 0x11237b3c8>"
      ]
     },
     "metadata": {},
     "output_type": "display_data"
    }
   ],
   "source": [
    "updatedAccDeaths.State.value_counts().plot(kind='barh', figsize=(10, 12))"
   ]
  },
  {
   "cell_type": "markdown",
   "metadata": {},
   "source": [
    "Chart of number of incidents per state. This is a nice visualization of the count but looking at incidents based of the population of each state might be more meaningful. No surprise Texas is at the top given its population and lax gun laws."
   ]
  },
  {
   "cell_type": "code",
   "execution_count": 33,
   "metadata": {},
   "outputs": [],
   "source": [
    "statePopulations = pd.read_excel(\"state_populations.xlsx\")"
   ]
  },
  {
   "cell_type": "markdown",
   "metadata": {},
   "source": [
    "Brought in population data from census.gov. I'm gonna use 2016 data."
   ]
  },
  {
   "cell_type": "code",
   "execution_count": 34,
   "metadata": {},
   "outputs": [
    {
     "data": {
      "text/html": [
       "<div>\n",
       "<style scoped>\n",
       "    .dataframe tbody tr th:only-of-type {\n",
       "        vertical-align: middle;\n",
       "    }\n",
       "\n",
       "    .dataframe tbody tr th {\n",
       "        vertical-align: top;\n",
       "    }\n",
       "\n",
       "    .dataframe thead th {\n",
       "        text-align: right;\n",
       "    }\n",
       "</style>\n",
       "<table border=\"1\" class=\"dataframe\">\n",
       "  <thead>\n",
       "    <tr style=\"text-align: right;\">\n",
       "      <th></th>\n",
       "      <th>table with row headers in column A and column headers in rows 3 through 4. (leading dots indicate sub-parts)</th>\n",
       "      <th>Unnamed: 1</th>\n",
       "      <th>Unnamed: 2</th>\n",
       "      <th>Unnamed: 3</th>\n",
       "      <th>Unnamed: 4</th>\n",
       "      <th>Unnamed: 5</th>\n",
       "      <th>Unnamed: 6</th>\n",
       "      <th>Unnamed: 7</th>\n",
       "      <th>Unnamed: 8</th>\n",
       "      <th>Unnamed: 9</th>\n",
       "      <th>Unnamed: 10</th>\n",
       "    </tr>\n",
       "  </thead>\n",
       "  <tbody>\n",
       "    <tr>\n",
       "      <th>0</th>\n",
       "      <td>Table 1. Annual Estimates of the Resident Popu...</td>\n",
       "      <td>NaN</td>\n",
       "      <td>NaN</td>\n",
       "      <td>NaN</td>\n",
       "      <td>NaN</td>\n",
       "      <td>NaN</td>\n",
       "      <td>NaN</td>\n",
       "      <td>NaN</td>\n",
       "      <td>NaN</td>\n",
       "      <td>NaN</td>\n",
       "      <td>NaN</td>\n",
       "    </tr>\n",
       "    <tr>\n",
       "      <th>1</th>\n",
       "      <td>Geographic Area</td>\n",
       "      <td>2010-04-01 00:00:00</td>\n",
       "      <td>NaN</td>\n",
       "      <td>Population Estimate (as of July 1)</td>\n",
       "      <td>NaN</td>\n",
       "      <td>NaN</td>\n",
       "      <td>NaN</td>\n",
       "      <td>NaN</td>\n",
       "      <td>NaN</td>\n",
       "      <td>NaN</td>\n",
       "      <td>NaN</td>\n",
       "    </tr>\n",
       "    <tr>\n",
       "      <th>2</th>\n",
       "      <td>NaN</td>\n",
       "      <td>Census</td>\n",
       "      <td>Estimates Base</td>\n",
       "      <td>2010</td>\n",
       "      <td>2011.0</td>\n",
       "      <td>2012.0</td>\n",
       "      <td>2013.0</td>\n",
       "      <td>2014.0</td>\n",
       "      <td>2015.0</td>\n",
       "      <td>2016.0</td>\n",
       "      <td>2017.0</td>\n",
       "    </tr>\n",
       "    <tr>\n",
       "      <th>3</th>\n",
       "      <td>United States</td>\n",
       "      <td>308745538</td>\n",
       "      <td>308758105</td>\n",
       "      <td>309338421</td>\n",
       "      <td>311644280.0</td>\n",
       "      <td>313993272.0</td>\n",
       "      <td>316234505.0</td>\n",
       "      <td>318622525.0</td>\n",
       "      <td>321039839.0</td>\n",
       "      <td>323405935.0</td>\n",
       "      <td>325719178.0</td>\n",
       "    </tr>\n",
       "    <tr>\n",
       "      <th>4</th>\n",
       "      <td>Northeast</td>\n",
       "      <td>55317240</td>\n",
       "      <td>55318350</td>\n",
       "      <td>55388349</td>\n",
       "      <td>55642659.0</td>\n",
       "      <td>55860261.0</td>\n",
       "      <td>56047732.0</td>\n",
       "      <td>56203078.0</td>\n",
       "      <td>56296628.0</td>\n",
       "      <td>56359360.0</td>\n",
       "      <td>56470581.0</td>\n",
       "    </tr>\n",
       "    <tr>\n",
       "      <th>5</th>\n",
       "      <td>Midwest</td>\n",
       "      <td>66927001</td>\n",
       "      <td>66929794</td>\n",
       "      <td>66973360</td>\n",
       "      <td>67141501.0</td>\n",
       "      <td>67318295.0</td>\n",
       "      <td>67534451.0</td>\n",
       "      <td>67720120.0</td>\n",
       "      <td>67839187.0</td>\n",
       "      <td>67978168.0</td>\n",
       "      <td>68179351.0</td>\n",
       "    </tr>\n",
       "    <tr>\n",
       "      <th>6</th>\n",
       "      <td>South</td>\n",
       "      <td>114555744</td>\n",
       "      <td>114563024</td>\n",
       "      <td>114869241</td>\n",
       "      <td>116060993.0</td>\n",
       "      <td>117291728.0</td>\n",
       "      <td>118422269.0</td>\n",
       "      <td>119699966.0</td>\n",
       "      <td>121081238.0</td>\n",
       "      <td>122423457.0</td>\n",
       "      <td>123658624.0</td>\n",
       "    </tr>\n",
       "    <tr>\n",
       "      <th>7</th>\n",
       "      <td>West</td>\n",
       "      <td>71945553</td>\n",
       "      <td>71946937</td>\n",
       "      <td>72107471</td>\n",
       "      <td>72799127.0</td>\n",
       "      <td>73522988.0</td>\n",
       "      <td>74230053.0</td>\n",
       "      <td>74999361.0</td>\n",
       "      <td>75822786.0</td>\n",
       "      <td>76644950.0</td>\n",
       "      <td>77410622.0</td>\n",
       "    </tr>\n",
       "    <tr>\n",
       "      <th>8</th>\n",
       "      <td>.Alabama</td>\n",
       "      <td>4779736</td>\n",
       "      <td>4780135</td>\n",
       "      <td>4785579</td>\n",
       "      <td>4798649.0</td>\n",
       "      <td>4813946.0</td>\n",
       "      <td>4827660.0</td>\n",
       "      <td>4840037.0</td>\n",
       "      <td>4850858.0</td>\n",
       "      <td>4860545.0</td>\n",
       "      <td>4874747.0</td>\n",
       "    </tr>\n",
       "    <tr>\n",
       "      <th>9</th>\n",
       "      <td>.Alaska</td>\n",
       "      <td>710231</td>\n",
       "      <td>710249</td>\n",
       "      <td>714015</td>\n",
       "      <td>722259.0</td>\n",
       "      <td>730825.0</td>\n",
       "      <td>736760.0</td>\n",
       "      <td>736759.0</td>\n",
       "      <td>737979.0</td>\n",
       "      <td>741522.0</td>\n",
       "      <td>739795.0</td>\n",
       "    </tr>\n",
       "    <tr>\n",
       "      <th>10</th>\n",
       "      <td>.Arizona</td>\n",
       "      <td>6392017</td>\n",
       "      <td>6392309</td>\n",
       "      <td>6407002</td>\n",
       "      <td>6465488.0</td>\n",
       "      <td>6544211.0</td>\n",
       "      <td>6616124.0</td>\n",
       "      <td>6706435.0</td>\n",
       "      <td>6802262.0</td>\n",
       "      <td>6908642.0</td>\n",
       "      <td>7016270.0</td>\n",
       "    </tr>\n",
       "    <tr>\n",
       "      <th>11</th>\n",
       "      <td>.Arkansas</td>\n",
       "      <td>2915918</td>\n",
       "      <td>2916031</td>\n",
       "      <td>2921737</td>\n",
       "      <td>2938640.0</td>\n",
       "      <td>2949208.0</td>\n",
       "      <td>2956780.0</td>\n",
       "      <td>2964800.0</td>\n",
       "      <td>2975626.0</td>\n",
       "      <td>2988231.0</td>\n",
       "      <td>3004279.0</td>\n",
       "    </tr>\n",
       "    <tr>\n",
       "      <th>12</th>\n",
       "      <td>.California</td>\n",
       "      <td>37253956</td>\n",
       "      <td>37254518</td>\n",
       "      <td>37327690</td>\n",
       "      <td>37672654.0</td>\n",
       "      <td>38019006.0</td>\n",
       "      <td>38347383.0</td>\n",
       "      <td>38701278.0</td>\n",
       "      <td>39032444.0</td>\n",
       "      <td>39296476.0</td>\n",
       "      <td>39536653.0</td>\n",
       "    </tr>\n",
       "    <tr>\n",
       "      <th>13</th>\n",
       "      <td>.Colorado</td>\n",
       "      <td>5029196</td>\n",
       "      <td>5029325</td>\n",
       "      <td>5048029</td>\n",
       "      <td>5116411.0</td>\n",
       "      <td>5186330.0</td>\n",
       "      <td>5262556.0</td>\n",
       "      <td>5342311.0</td>\n",
       "      <td>5440445.0</td>\n",
       "      <td>5530105.0</td>\n",
       "      <td>5607154.0</td>\n",
       "    </tr>\n",
       "    <tr>\n",
       "      <th>14</th>\n",
       "      <td>.Connecticut</td>\n",
       "      <td>3574097</td>\n",
       "      <td>3574114</td>\n",
       "      <td>3580171</td>\n",
       "      <td>3591927.0</td>\n",
       "      <td>3597705.0</td>\n",
       "      <td>3602470.0</td>\n",
       "      <td>3600188.0</td>\n",
       "      <td>3593862.0</td>\n",
       "      <td>3587685.0</td>\n",
       "      <td>3588184.0</td>\n",
       "    </tr>\n",
       "    <tr>\n",
       "      <th>15</th>\n",
       "      <td>.Delaware</td>\n",
       "      <td>897934</td>\n",
       "      <td>897936</td>\n",
       "      <td>899712</td>\n",
       "      <td>907884.0</td>\n",
       "      <td>916868.0</td>\n",
       "      <td>925114.0</td>\n",
       "      <td>934805.0</td>\n",
       "      <td>944107.0</td>\n",
       "      <td>952698.0</td>\n",
       "      <td>961939.0</td>\n",
       "    </tr>\n",
       "    <tr>\n",
       "      <th>16</th>\n",
       "      <td>.District of Columbia</td>\n",
       "      <td>601723</td>\n",
       "      <td>601766</td>\n",
       "      <td>605040</td>\n",
       "      <td>620336.0</td>\n",
       "      <td>635630.0</td>\n",
       "      <td>650114.0</td>\n",
       "      <td>660797.0</td>\n",
       "      <td>672736.0</td>\n",
       "      <td>684336.0</td>\n",
       "      <td>693972.0</td>\n",
       "    </tr>\n",
       "    <tr>\n",
       "      <th>17</th>\n",
       "      <td>.Florida</td>\n",
       "      <td>18801310</td>\n",
       "      <td>18804594</td>\n",
       "      <td>18846461</td>\n",
       "      <td>19097369.0</td>\n",
       "      <td>19341327.0</td>\n",
       "      <td>19584927.0</td>\n",
       "      <td>19897747.0</td>\n",
       "      <td>20268567.0</td>\n",
       "      <td>20656589.0</td>\n",
       "      <td>20984400.0</td>\n",
       "    </tr>\n",
       "    <tr>\n",
       "      <th>18</th>\n",
       "      <td>.Georgia</td>\n",
       "      <td>9687653</td>\n",
       "      <td>9688690</td>\n",
       "      <td>9712696</td>\n",
       "      <td>9810595.0</td>\n",
       "      <td>9911171.0</td>\n",
       "      <td>9981773.0</td>\n",
       "      <td>10083850.0</td>\n",
       "      <td>10199533.0</td>\n",
       "      <td>10313620.0</td>\n",
       "      <td>10429379.0</td>\n",
       "    </tr>\n",
       "    <tr>\n",
       "      <th>19</th>\n",
       "      <td>.Hawaii</td>\n",
       "      <td>1360301</td>\n",
       "      <td>1360301</td>\n",
       "      <td>1363817</td>\n",
       "      <td>1378323.0</td>\n",
       "      <td>1392772.0</td>\n",
       "      <td>1408038.0</td>\n",
       "      <td>1417710.0</td>\n",
       "      <td>1426320.0</td>\n",
       "      <td>1428683.0</td>\n",
       "      <td>1427538.0</td>\n",
       "    </tr>\n",
       "  </tbody>\n",
       "</table>\n",
       "</div>"
      ],
      "text/plain": [
       "   table with row headers in column A and column headers in rows 3 through 4. (leading dots indicate sub-parts)  \\\n",
       "0   Table 1. Annual Estimates of the Resident Popu...                                                             \n",
       "1                                     Geographic Area                                                             \n",
       "2                                                 NaN                                                             \n",
       "3                                       United States                                                             \n",
       "4                                           Northeast                                                             \n",
       "5                                             Midwest                                                             \n",
       "6                                               South                                                             \n",
       "7                                                West                                                             \n",
       "8                                            .Alabama                                                             \n",
       "9                                             .Alaska                                                             \n",
       "10                                           .Arizona                                                             \n",
       "11                                          .Arkansas                                                             \n",
       "12                                        .California                                                             \n",
       "13                                          .Colorado                                                             \n",
       "14                                       .Connecticut                                                             \n",
       "15                                          .Delaware                                                             \n",
       "16                              .District of Columbia                                                             \n",
       "17                                           .Florida                                                             \n",
       "18                                           .Georgia                                                             \n",
       "19                                            .Hawaii                                                             \n",
       "\n",
       "             Unnamed: 1      Unnamed: 2                          Unnamed: 3  \\\n",
       "0                   NaN             NaN                                 NaN   \n",
       "1   2010-04-01 00:00:00             NaN  Population Estimate (as of July 1)   \n",
       "2                Census  Estimates Base                                2010   \n",
       "3             308745538       308758105                           309338421   \n",
       "4              55317240        55318350                            55388349   \n",
       "5              66927001        66929794                            66973360   \n",
       "6             114555744       114563024                           114869241   \n",
       "7              71945553        71946937                            72107471   \n",
       "8               4779736         4780135                             4785579   \n",
       "9                710231          710249                              714015   \n",
       "10              6392017         6392309                             6407002   \n",
       "11              2915918         2916031                             2921737   \n",
       "12             37253956        37254518                            37327690   \n",
       "13              5029196         5029325                             5048029   \n",
       "14              3574097         3574114                             3580171   \n",
       "15               897934          897936                              899712   \n",
       "16               601723          601766                              605040   \n",
       "17             18801310        18804594                            18846461   \n",
       "18              9687653         9688690                             9712696   \n",
       "19              1360301         1360301                             1363817   \n",
       "\n",
       "     Unnamed: 4   Unnamed: 5   Unnamed: 6   Unnamed: 7   Unnamed: 8  \\\n",
       "0           NaN          NaN          NaN          NaN          NaN   \n",
       "1           NaN          NaN          NaN          NaN          NaN   \n",
       "2        2011.0       2012.0       2013.0       2014.0       2015.0   \n",
       "3   311644280.0  313993272.0  316234505.0  318622525.0  321039839.0   \n",
       "4    55642659.0   55860261.0   56047732.0   56203078.0   56296628.0   \n",
       "5    67141501.0   67318295.0   67534451.0   67720120.0   67839187.0   \n",
       "6   116060993.0  117291728.0  118422269.0  119699966.0  121081238.0   \n",
       "7    72799127.0   73522988.0   74230053.0   74999361.0   75822786.0   \n",
       "8     4798649.0    4813946.0    4827660.0    4840037.0    4850858.0   \n",
       "9      722259.0     730825.0     736760.0     736759.0     737979.0   \n",
       "10    6465488.0    6544211.0    6616124.0    6706435.0    6802262.0   \n",
       "11    2938640.0    2949208.0    2956780.0    2964800.0    2975626.0   \n",
       "12   37672654.0   38019006.0   38347383.0   38701278.0   39032444.0   \n",
       "13    5116411.0    5186330.0    5262556.0    5342311.0    5440445.0   \n",
       "14    3591927.0    3597705.0    3602470.0    3600188.0    3593862.0   \n",
       "15     907884.0     916868.0     925114.0     934805.0     944107.0   \n",
       "16     620336.0     635630.0     650114.0     660797.0     672736.0   \n",
       "17   19097369.0   19341327.0   19584927.0   19897747.0   20268567.0   \n",
       "18    9810595.0    9911171.0    9981773.0   10083850.0   10199533.0   \n",
       "19    1378323.0    1392772.0    1408038.0    1417710.0    1426320.0   \n",
       "\n",
       "     Unnamed: 9  Unnamed: 10  \n",
       "0           NaN          NaN  \n",
       "1           NaN          NaN  \n",
       "2        2016.0       2017.0  \n",
       "3   323405935.0  325719178.0  \n",
       "4    56359360.0   56470581.0  \n",
       "5    67978168.0   68179351.0  \n",
       "6   122423457.0  123658624.0  \n",
       "7    76644950.0   77410622.0  \n",
       "8     4860545.0    4874747.0  \n",
       "9      741522.0     739795.0  \n",
       "10    6908642.0    7016270.0  \n",
       "11    2988231.0    3004279.0  \n",
       "12   39296476.0   39536653.0  \n",
       "13    5530105.0    5607154.0  \n",
       "14    3587685.0    3588184.0  \n",
       "15     952698.0     961939.0  \n",
       "16     684336.0     693972.0  \n",
       "17   20656589.0   20984400.0  \n",
       "18   10313620.0   10429379.0  \n",
       "19    1428683.0    1427538.0  "
      ]
     },
     "execution_count": 34,
     "metadata": {},
     "output_type": "execute_result"
    }
   ],
   "source": [
    "statePopulations.head(20)"
   ]
  },
  {
   "cell_type": "code",
   "execution_count": 35,
   "metadata": {},
   "outputs": [
    {
     "data": {
      "text/html": [
       "<div>\n",
       "<style scoped>\n",
       "    .dataframe tbody tr th:only-of-type {\n",
       "        vertical-align: middle;\n",
       "    }\n",
       "\n",
       "    .dataframe tbody tr th {\n",
       "        vertical-align: top;\n",
       "    }\n",
       "\n",
       "    .dataframe thead th {\n",
       "        text-align: right;\n",
       "    }\n",
       "</style>\n",
       "<table border=\"1\" class=\"dataframe\">\n",
       "  <thead>\n",
       "    <tr style=\"text-align: right;\">\n",
       "      <th></th>\n",
       "      <th>table with row headers in column A and column headers in rows 3 through 4. (leading dots indicate sub-parts)</th>\n",
       "      <th>Unnamed: 1</th>\n",
       "      <th>Unnamed: 2</th>\n",
       "      <th>Unnamed: 3</th>\n",
       "      <th>Unnamed: 4</th>\n",
       "      <th>Unnamed: 5</th>\n",
       "      <th>Unnamed: 6</th>\n",
       "      <th>Unnamed: 7</th>\n",
       "      <th>Unnamed: 8</th>\n",
       "      <th>Unnamed: 9</th>\n",
       "      <th>Unnamed: 10</th>\n",
       "    </tr>\n",
       "  </thead>\n",
       "  <tbody>\n",
       "    <tr>\n",
       "      <th>8</th>\n",
       "      <td>.Alabama</td>\n",
       "      <td>4779736</td>\n",
       "      <td>4780135</td>\n",
       "      <td>4785579</td>\n",
       "      <td>4798649.0</td>\n",
       "      <td>4813946.0</td>\n",
       "      <td>4827660.0</td>\n",
       "      <td>4840037.0</td>\n",
       "      <td>4850858.0</td>\n",
       "      <td>4860545.0</td>\n",
       "      <td>4874747.0</td>\n",
       "    </tr>\n",
       "    <tr>\n",
       "      <th>9</th>\n",
       "      <td>.Alaska</td>\n",
       "      <td>710231</td>\n",
       "      <td>710249</td>\n",
       "      <td>714015</td>\n",
       "      <td>722259.0</td>\n",
       "      <td>730825.0</td>\n",
       "      <td>736760.0</td>\n",
       "      <td>736759.0</td>\n",
       "      <td>737979.0</td>\n",
       "      <td>741522.0</td>\n",
       "      <td>739795.0</td>\n",
       "    </tr>\n",
       "    <tr>\n",
       "      <th>10</th>\n",
       "      <td>.Arizona</td>\n",
       "      <td>6392017</td>\n",
       "      <td>6392309</td>\n",
       "      <td>6407002</td>\n",
       "      <td>6465488.0</td>\n",
       "      <td>6544211.0</td>\n",
       "      <td>6616124.0</td>\n",
       "      <td>6706435.0</td>\n",
       "      <td>6802262.0</td>\n",
       "      <td>6908642.0</td>\n",
       "      <td>7016270.0</td>\n",
       "    </tr>\n",
       "    <tr>\n",
       "      <th>11</th>\n",
       "      <td>.Arkansas</td>\n",
       "      <td>2915918</td>\n",
       "      <td>2916031</td>\n",
       "      <td>2921737</td>\n",
       "      <td>2938640.0</td>\n",
       "      <td>2949208.0</td>\n",
       "      <td>2956780.0</td>\n",
       "      <td>2964800.0</td>\n",
       "      <td>2975626.0</td>\n",
       "      <td>2988231.0</td>\n",
       "      <td>3004279.0</td>\n",
       "    </tr>\n",
       "    <tr>\n",
       "      <th>12</th>\n",
       "      <td>.California</td>\n",
       "      <td>37253956</td>\n",
       "      <td>37254518</td>\n",
       "      <td>37327690</td>\n",
       "      <td>37672654.0</td>\n",
       "      <td>38019006.0</td>\n",
       "      <td>38347383.0</td>\n",
       "      <td>38701278.0</td>\n",
       "      <td>39032444.0</td>\n",
       "      <td>39296476.0</td>\n",
       "      <td>39536653.0</td>\n",
       "    </tr>\n",
       "  </tbody>\n",
       "</table>\n",
       "</div>"
      ],
      "text/plain": [
       "   table with row headers in column A and column headers in rows 3 through 4. (leading dots indicate sub-parts)  \\\n",
       "8                                            .Alabama                                                             \n",
       "9                                             .Alaska                                                             \n",
       "10                                           .Arizona                                                             \n",
       "11                                          .Arkansas                                                             \n",
       "12                                        .California                                                             \n",
       "\n",
       "   Unnamed: 1 Unnamed: 2 Unnamed: 3  Unnamed: 4  Unnamed: 5  Unnamed: 6  \\\n",
       "8     4779736    4780135    4785579   4798649.0   4813946.0   4827660.0   \n",
       "9      710231     710249     714015    722259.0    730825.0    736760.0   \n",
       "10    6392017    6392309    6407002   6465488.0   6544211.0   6616124.0   \n",
       "11    2915918    2916031    2921737   2938640.0   2949208.0   2956780.0   \n",
       "12   37253956   37254518   37327690  37672654.0  38019006.0  38347383.0   \n",
       "\n",
       "    Unnamed: 7  Unnamed: 8  Unnamed: 9  Unnamed: 10  \n",
       "8    4840037.0   4850858.0   4860545.0    4874747.0  \n",
       "9     736759.0    737979.0    741522.0     739795.0  \n",
       "10   6706435.0   6802262.0   6908642.0    7016270.0  \n",
       "11   2964800.0   2975626.0   2988231.0    3004279.0  \n",
       "12  38701278.0  39032444.0  39296476.0   39536653.0  "
      ]
     },
     "execution_count": 35,
     "metadata": {},
     "output_type": "execute_result"
    }
   ],
   "source": [
    "statePopulations = statePopulations.drop([0,1,2,3,4,5,6,7], axis=0)\n",
    "statePopulations.head()"
   ]
  },
  {
   "cell_type": "code",
   "execution_count": 36,
   "metadata": {},
   "outputs": [
    {
     "data": {
      "text/plain": [
       "Index(['table with row headers in column A and column headers in rows 3 through 4. (leading dots indicate sub-parts)',\n",
       "       'Unnamed: 1', 'Unnamed: 2', 'Unnamed: 3', 'Unnamed: 4', 'Unnamed: 5',\n",
       "       'Unnamed: 6', 'Unnamed: 7', 'Unnamed: 8', 'Unnamed: 9', 'Unnamed: 10'],\n",
       "      dtype='object')"
      ]
     },
     "execution_count": 36,
     "metadata": {},
     "output_type": "execute_result"
    }
   ],
   "source": [
    "statePopulations.columns"
   ]
  },
  {
   "cell_type": "code",
   "execution_count": 37,
   "metadata": {},
   "outputs": [],
   "source": [
    "statePopulations = statePopulations.drop(['Unnamed: 1', 'Unnamed: 2', 'Unnamed: 3', 'Unnamed: 4', 'Unnamed: 5',\n",
    "       'Unnamed: 6', 'Unnamed: 7', 'Unnamed: 8', 'Unnamed: 10'], axis=1)"
   ]
  },
  {
   "cell_type": "code",
   "execution_count": 38,
   "metadata": {},
   "outputs": [
    {
     "data": {
      "text/html": [
       "<div>\n",
       "<style scoped>\n",
       "    .dataframe tbody tr th:only-of-type {\n",
       "        vertical-align: middle;\n",
       "    }\n",
       "\n",
       "    .dataframe tbody tr th {\n",
       "        vertical-align: top;\n",
       "    }\n",
       "\n",
       "    .dataframe thead th {\n",
       "        text-align: right;\n",
       "    }\n",
       "</style>\n",
       "<table border=\"1\" class=\"dataframe\">\n",
       "  <thead>\n",
       "    <tr style=\"text-align: right;\">\n",
       "      <th></th>\n",
       "      <th>table with row headers in column A and column headers in rows 3 through 4. (leading dots indicate sub-parts)</th>\n",
       "      <th>Unnamed: 9</th>\n",
       "    </tr>\n",
       "  </thead>\n",
       "  <tbody>\n",
       "    <tr>\n",
       "      <th>8</th>\n",
       "      <td>.Alabama</td>\n",
       "      <td>4860545.0</td>\n",
       "    </tr>\n",
       "    <tr>\n",
       "      <th>9</th>\n",
       "      <td>.Alaska</td>\n",
       "      <td>741522.0</td>\n",
       "    </tr>\n",
       "    <tr>\n",
       "      <th>10</th>\n",
       "      <td>.Arizona</td>\n",
       "      <td>6908642.0</td>\n",
       "    </tr>\n",
       "    <tr>\n",
       "      <th>11</th>\n",
       "      <td>.Arkansas</td>\n",
       "      <td>2988231.0</td>\n",
       "    </tr>\n",
       "    <tr>\n",
       "      <th>12</th>\n",
       "      <td>.California</td>\n",
       "      <td>39296476.0</td>\n",
       "    </tr>\n",
       "  </tbody>\n",
       "</table>\n",
       "</div>"
      ],
      "text/plain": [
       "   table with row headers in column A and column headers in rows 3 through 4. (leading dots indicate sub-parts)  \\\n",
       "8                                            .Alabama                                                             \n",
       "9                                             .Alaska                                                             \n",
       "10                                           .Arizona                                                             \n",
       "11                                          .Arkansas                                                             \n",
       "12                                        .California                                                             \n",
       "\n",
       "    Unnamed: 9  \n",
       "8    4860545.0  \n",
       "9     741522.0  \n",
       "10   6908642.0  \n",
       "11   2988231.0  \n",
       "12  39296476.0  "
      ]
     },
     "execution_count": 38,
     "metadata": {},
     "output_type": "execute_result"
    }
   ],
   "source": [
    "statePopulations.head()"
   ]
  },
  {
   "cell_type": "code",
   "execution_count": 39,
   "metadata": {},
   "outputs": [
    {
     "data": {
      "text/html": [
       "<div>\n",
       "<style scoped>\n",
       "    .dataframe tbody tr th:only-of-type {\n",
       "        vertical-align: middle;\n",
       "    }\n",
       "\n",
       "    .dataframe tbody tr th {\n",
       "        vertical-align: top;\n",
       "    }\n",
       "\n",
       "    .dataframe thead th {\n",
       "        text-align: right;\n",
       "    }\n",
       "</style>\n",
       "<table border=\"1\" class=\"dataframe\">\n",
       "  <thead>\n",
       "    <tr style=\"text-align: right;\">\n",
       "      <th></th>\n",
       "      <th>State</th>\n",
       "      <th>Population</th>\n",
       "    </tr>\n",
       "  </thead>\n",
       "  <tbody>\n",
       "    <tr>\n",
       "      <th>8</th>\n",
       "      <td>.Alabama</td>\n",
       "      <td>4860545.0</td>\n",
       "    </tr>\n",
       "    <tr>\n",
       "      <th>9</th>\n",
       "      <td>.Alaska</td>\n",
       "      <td>741522.0</td>\n",
       "    </tr>\n",
       "    <tr>\n",
       "      <th>10</th>\n",
       "      <td>.Arizona</td>\n",
       "      <td>6908642.0</td>\n",
       "    </tr>\n",
       "    <tr>\n",
       "      <th>11</th>\n",
       "      <td>.Arkansas</td>\n",
       "      <td>2988231.0</td>\n",
       "    </tr>\n",
       "    <tr>\n",
       "      <th>12</th>\n",
       "      <td>.California</td>\n",
       "      <td>39296476.0</td>\n",
       "    </tr>\n",
       "  </tbody>\n",
       "</table>\n",
       "</div>"
      ],
      "text/plain": [
       "          State  Population\n",
       "8      .Alabama   4860545.0\n",
       "9       .Alaska    741522.0\n",
       "10     .Arizona   6908642.0\n",
       "11    .Arkansas   2988231.0\n",
       "12  .California  39296476.0"
      ]
     },
     "execution_count": 39,
     "metadata": {},
     "output_type": "execute_result"
    }
   ],
   "source": [
    "statePopulations = statePopulations.rename(index=str, \n",
    "                        columns={'table with row headers in column A and column headers in rows 3 through 4. (leading dots indicate sub-parts)': 'State', 'Unnamed: 9': 'Population'})\n",
    "statePopulations.head()"
   ]
  },
  {
   "cell_type": "code",
   "execution_count": 40,
   "metadata": {},
   "outputs": [],
   "source": [
    "statePopulations = statePopulations.drop(['59', '60', '61', '62', '63', '64', '65'], axis=0)"
   ]
  },
  {
   "cell_type": "code",
   "execution_count": 41,
   "metadata": {},
   "outputs": [
    {
     "data": {
      "text/html": [
       "<div>\n",
       "<style scoped>\n",
       "    .dataframe tbody tr th:only-of-type {\n",
       "        vertical-align: middle;\n",
       "    }\n",
       "\n",
       "    .dataframe tbody tr th {\n",
       "        vertical-align: top;\n",
       "    }\n",
       "\n",
       "    .dataframe thead th {\n",
       "        text-align: right;\n",
       "    }\n",
       "</style>\n",
       "<table border=\"1\" class=\"dataframe\">\n",
       "  <thead>\n",
       "    <tr style=\"text-align: right;\">\n",
       "      <th></th>\n",
       "      <th>State</th>\n",
       "      <th>Population</th>\n",
       "    </tr>\n",
       "  </thead>\n",
       "  <tbody>\n",
       "    <tr>\n",
       "      <th>54</th>\n",
       "      <td>.Virginia</td>\n",
       "      <td>8414380</td>\n",
       "    </tr>\n",
       "    <tr>\n",
       "      <th>55</th>\n",
       "      <td>.Washington</td>\n",
       "      <td>7280934</td>\n",
       "    </tr>\n",
       "    <tr>\n",
       "      <th>56</th>\n",
       "      <td>.West Virginia</td>\n",
       "      <td>1828637</td>\n",
       "    </tr>\n",
       "    <tr>\n",
       "      <th>57</th>\n",
       "      <td>.Wisconsin</td>\n",
       "      <td>5772917</td>\n",
       "    </tr>\n",
       "    <tr>\n",
       "      <th>58</th>\n",
       "      <td>.Wyoming</td>\n",
       "      <td>584910</td>\n",
       "    </tr>\n",
       "  </tbody>\n",
       "</table>\n",
       "</div>"
      ],
      "text/plain": [
       "             State  Population\n",
       "54       .Virginia     8414380\n",
       "55     .Washington     7280934\n",
       "56  .West Virginia     1828637\n",
       "57      .Wisconsin     5772917\n",
       "58        .Wyoming      584910"
      ]
     },
     "execution_count": 41,
     "metadata": {},
     "output_type": "execute_result"
    }
   ],
   "source": [
    "statePopulations.Population = statePopulations.Population.astype(int)\n",
    "statePopulations.tail()"
   ]
  },
  {
   "cell_type": "code",
   "execution_count": 42,
   "metadata": {},
   "outputs": [],
   "source": [
    "statePopulations['State'] = statePopulations['State'].map(lambda x: x.lstrip('.'))"
   ]
  },
  {
   "cell_type": "markdown",
   "metadata": {},
   "source": [
    "This was a lot of data cleaning to just extract the 2016 population data. Probably an easier way, or maybe a better dataset, to do this with."
   ]
  },
  {
   "cell_type": "code",
   "execution_count": 43,
   "metadata": {},
   "outputs": [
    {
     "data": {
      "text/html": [
       "<div>\n",
       "<style scoped>\n",
       "    .dataframe tbody tr th:only-of-type {\n",
       "        vertical-align: middle;\n",
       "    }\n",
       "\n",
       "    .dataframe tbody tr th {\n",
       "        vertical-align: top;\n",
       "    }\n",
       "\n",
       "    .dataframe thead th {\n",
       "        text-align: right;\n",
       "    }\n",
       "</style>\n",
       "<table border=\"1\" class=\"dataframe\">\n",
       "  <thead>\n",
       "    <tr style=\"text-align: right;\">\n",
       "      <th></th>\n",
       "      <th>State</th>\n",
       "      <th>Population</th>\n",
       "    </tr>\n",
       "  </thead>\n",
       "  <tbody>\n",
       "    <tr>\n",
       "      <th>8</th>\n",
       "      <td>Alabama</td>\n",
       "      <td>4860545</td>\n",
       "    </tr>\n",
       "    <tr>\n",
       "      <th>9</th>\n",
       "      <td>Alaska</td>\n",
       "      <td>741522</td>\n",
       "    </tr>\n",
       "    <tr>\n",
       "      <th>10</th>\n",
       "      <td>Arizona</td>\n",
       "      <td>6908642</td>\n",
       "    </tr>\n",
       "    <tr>\n",
       "      <th>11</th>\n",
       "      <td>Arkansas</td>\n",
       "      <td>2988231</td>\n",
       "    </tr>\n",
       "    <tr>\n",
       "      <th>12</th>\n",
       "      <td>California</td>\n",
       "      <td>39296476</td>\n",
       "    </tr>\n",
       "    <tr>\n",
       "      <th>13</th>\n",
       "      <td>Colorado</td>\n",
       "      <td>5530105</td>\n",
       "    </tr>\n",
       "    <tr>\n",
       "      <th>14</th>\n",
       "      <td>Connecticut</td>\n",
       "      <td>3587685</td>\n",
       "    </tr>\n",
       "    <tr>\n",
       "      <th>15</th>\n",
       "      <td>Delaware</td>\n",
       "      <td>952698</td>\n",
       "    </tr>\n",
       "    <tr>\n",
       "      <th>16</th>\n",
       "      <td>District of Columbia</td>\n",
       "      <td>684336</td>\n",
       "    </tr>\n",
       "    <tr>\n",
       "      <th>17</th>\n",
       "      <td>Florida</td>\n",
       "      <td>20656589</td>\n",
       "    </tr>\n",
       "    <tr>\n",
       "      <th>18</th>\n",
       "      <td>Georgia</td>\n",
       "      <td>10313620</td>\n",
       "    </tr>\n",
       "    <tr>\n",
       "      <th>19</th>\n",
       "      <td>Hawaii</td>\n",
       "      <td>1428683</td>\n",
       "    </tr>\n",
       "    <tr>\n",
       "      <th>20</th>\n",
       "      <td>Idaho</td>\n",
       "      <td>1680026</td>\n",
       "    </tr>\n",
       "    <tr>\n",
       "      <th>21</th>\n",
       "      <td>Illinois</td>\n",
       "      <td>12835726</td>\n",
       "    </tr>\n",
       "    <tr>\n",
       "      <th>22</th>\n",
       "      <td>Indiana</td>\n",
       "      <td>6634007</td>\n",
       "    </tr>\n",
       "    <tr>\n",
       "      <th>23</th>\n",
       "      <td>Iowa</td>\n",
       "      <td>3130869</td>\n",
       "    </tr>\n",
       "    <tr>\n",
       "      <th>24</th>\n",
       "      <td>Kansas</td>\n",
       "      <td>2907731</td>\n",
       "    </tr>\n",
       "    <tr>\n",
       "      <th>25</th>\n",
       "      <td>Kentucky</td>\n",
       "      <td>4436113</td>\n",
       "    </tr>\n",
       "    <tr>\n",
       "      <th>26</th>\n",
       "      <td>Louisiana</td>\n",
       "      <td>4686157</td>\n",
       "    </tr>\n",
       "    <tr>\n",
       "      <th>27</th>\n",
       "      <td>Maine</td>\n",
       "      <td>1330232</td>\n",
       "    </tr>\n",
       "    <tr>\n",
       "      <th>28</th>\n",
       "      <td>Maryland</td>\n",
       "      <td>6024752</td>\n",
       "    </tr>\n",
       "    <tr>\n",
       "      <th>29</th>\n",
       "      <td>Massachusetts</td>\n",
       "      <td>6823721</td>\n",
       "    </tr>\n",
       "    <tr>\n",
       "      <th>30</th>\n",
       "      <td>Michigan</td>\n",
       "      <td>9933445</td>\n",
       "    </tr>\n",
       "    <tr>\n",
       "      <th>31</th>\n",
       "      <td>Minnesota</td>\n",
       "      <td>5525050</td>\n",
       "    </tr>\n",
       "    <tr>\n",
       "      <th>32</th>\n",
       "      <td>Mississippi</td>\n",
       "      <td>2985415</td>\n",
       "    </tr>\n",
       "    <tr>\n",
       "      <th>33</th>\n",
       "      <td>Missouri</td>\n",
       "      <td>6091176</td>\n",
       "    </tr>\n",
       "    <tr>\n",
       "      <th>34</th>\n",
       "      <td>Montana</td>\n",
       "      <td>1038656</td>\n",
       "    </tr>\n",
       "    <tr>\n",
       "      <th>35</th>\n",
       "      <td>Nebraska</td>\n",
       "      <td>1907603</td>\n",
       "    </tr>\n",
       "    <tr>\n",
       "      <th>36</th>\n",
       "      <td>Nevada</td>\n",
       "      <td>2939254</td>\n",
       "    </tr>\n",
       "    <tr>\n",
       "      <th>37</th>\n",
       "      <td>New Hampshire</td>\n",
       "      <td>1335015</td>\n",
       "    </tr>\n",
       "    <tr>\n",
       "      <th>38</th>\n",
       "      <td>New Jersey</td>\n",
       "      <td>8978416</td>\n",
       "    </tr>\n",
       "    <tr>\n",
       "      <th>39</th>\n",
       "      <td>New Mexico</td>\n",
       "      <td>2085432</td>\n",
       "    </tr>\n",
       "    <tr>\n",
       "      <th>40</th>\n",
       "      <td>New York</td>\n",
       "      <td>19836286</td>\n",
       "    </tr>\n",
       "    <tr>\n",
       "      <th>41</th>\n",
       "      <td>North Carolina</td>\n",
       "      <td>10156689</td>\n",
       "    </tr>\n",
       "    <tr>\n",
       "      <th>42</th>\n",
       "      <td>North Dakota</td>\n",
       "      <td>755548</td>\n",
       "    </tr>\n",
       "    <tr>\n",
       "      <th>43</th>\n",
       "      <td>Ohio</td>\n",
       "      <td>11622554</td>\n",
       "    </tr>\n",
       "    <tr>\n",
       "      <th>44</th>\n",
       "      <td>Oklahoma</td>\n",
       "      <td>3921207</td>\n",
       "    </tr>\n",
       "    <tr>\n",
       "      <th>45</th>\n",
       "      <td>Oregon</td>\n",
       "      <td>4085989</td>\n",
       "    </tr>\n",
       "    <tr>\n",
       "      <th>46</th>\n",
       "      <td>Pennsylvania</td>\n",
       "      <td>12787085</td>\n",
       "    </tr>\n",
       "    <tr>\n",
       "      <th>47</th>\n",
       "      <td>Rhode Island</td>\n",
       "      <td>1057566</td>\n",
       "    </tr>\n",
       "    <tr>\n",
       "      <th>48</th>\n",
       "      <td>South Carolina</td>\n",
       "      <td>4959822</td>\n",
       "    </tr>\n",
       "    <tr>\n",
       "      <th>49</th>\n",
       "      <td>South Dakota</td>\n",
       "      <td>861542</td>\n",
       "    </tr>\n",
       "    <tr>\n",
       "      <th>50</th>\n",
       "      <td>Tennessee</td>\n",
       "      <td>6649404</td>\n",
       "    </tr>\n",
       "    <tr>\n",
       "      <th>51</th>\n",
       "      <td>Texas</td>\n",
       "      <td>27904862</td>\n",
       "    </tr>\n",
       "    <tr>\n",
       "      <th>52</th>\n",
       "      <td>Utah</td>\n",
       "      <td>3044321</td>\n",
       "    </tr>\n",
       "    <tr>\n",
       "      <th>53</th>\n",
       "      <td>Vermont</td>\n",
       "      <td>623354</td>\n",
       "    </tr>\n",
       "    <tr>\n",
       "      <th>54</th>\n",
       "      <td>Virginia</td>\n",
       "      <td>8414380</td>\n",
       "    </tr>\n",
       "    <tr>\n",
       "      <th>55</th>\n",
       "      <td>Washington</td>\n",
       "      <td>7280934</td>\n",
       "    </tr>\n",
       "    <tr>\n",
       "      <th>56</th>\n",
       "      <td>West Virginia</td>\n",
       "      <td>1828637</td>\n",
       "    </tr>\n",
       "    <tr>\n",
       "      <th>57</th>\n",
       "      <td>Wisconsin</td>\n",
       "      <td>5772917</td>\n",
       "    </tr>\n",
       "    <tr>\n",
       "      <th>58</th>\n",
       "      <td>Wyoming</td>\n",
       "      <td>584910</td>\n",
       "    </tr>\n",
       "  </tbody>\n",
       "</table>\n",
       "</div>"
      ],
      "text/plain": [
       "                   State  Population\n",
       "8                Alabama     4860545\n",
       "9                 Alaska      741522\n",
       "10               Arizona     6908642\n",
       "11              Arkansas     2988231\n",
       "12            California    39296476\n",
       "13              Colorado     5530105\n",
       "14           Connecticut     3587685\n",
       "15              Delaware      952698\n",
       "16  District of Columbia      684336\n",
       "17               Florida    20656589\n",
       "18               Georgia    10313620\n",
       "19                Hawaii     1428683\n",
       "20                 Idaho     1680026\n",
       "21              Illinois    12835726\n",
       "22               Indiana     6634007\n",
       "23                  Iowa     3130869\n",
       "24                Kansas     2907731\n",
       "25              Kentucky     4436113\n",
       "26             Louisiana     4686157\n",
       "27                 Maine     1330232\n",
       "28              Maryland     6024752\n",
       "29         Massachusetts     6823721\n",
       "30              Michigan     9933445\n",
       "31             Minnesota     5525050\n",
       "32           Mississippi     2985415\n",
       "33              Missouri     6091176\n",
       "34               Montana     1038656\n",
       "35              Nebraska     1907603\n",
       "36                Nevada     2939254\n",
       "37         New Hampshire     1335015\n",
       "38            New Jersey     8978416\n",
       "39            New Mexico     2085432\n",
       "40              New York    19836286\n",
       "41        North Carolina    10156689\n",
       "42          North Dakota      755548\n",
       "43                  Ohio    11622554\n",
       "44              Oklahoma     3921207\n",
       "45                Oregon     4085989\n",
       "46          Pennsylvania    12787085\n",
       "47          Rhode Island     1057566\n",
       "48        South Carolina     4959822\n",
       "49          South Dakota      861542\n",
       "50             Tennessee     6649404\n",
       "51                 Texas    27904862\n",
       "52                  Utah     3044321\n",
       "53               Vermont      623354\n",
       "54              Virginia     8414380\n",
       "55            Washington     7280934\n",
       "56         West Virginia     1828637\n",
       "57             Wisconsin     5772917\n",
       "58               Wyoming      584910"
      ]
     },
     "execution_count": 43,
     "metadata": {},
     "output_type": "execute_result"
    }
   ],
   "source": [
    "statePopulations"
   ]
  },
  {
   "cell_type": "code",
   "execution_count": 44,
   "metadata": {},
   "outputs": [],
   "source": [
    "statePopulations['Per 100,000'] = round(statePopulations['Population'] / 100000, 2)"
   ]
  },
  {
   "cell_type": "markdown",
   "metadata": {},
   "source": [
    "Instead of using total population I created a column to scale it down to per 100,000 people. Using this instead of population should give me cleaner numbers to work with."
   ]
  },
  {
   "cell_type": "code",
   "execution_count": 45,
   "metadata": {},
   "outputs": [
    {
     "data": {
      "text/plain": [
       "State          51\n",
       "Population     51\n",
       "Per 100,000    51\n",
       "dtype: int64"
      ]
     },
     "execution_count": 45,
     "metadata": {},
     "output_type": "execute_result"
    }
   ],
   "source": [
    "statePopulations.count()"
   ]
  },
  {
   "cell_type": "code",
   "execution_count": 46,
   "metadata": {},
   "outputs": [
    {
     "data": {
      "text/plain": [
       "711"
      ]
     },
     "execution_count": 46,
     "metadata": {},
     "output_type": "execute_result"
    }
   ],
   "source": [
    "stateCounts = updatedAccDeaths.State.value_counts()\n",
    "updatedAccDeaths.State.count()"
   ]
  },
  {
   "cell_type": "code",
   "execution_count": 47,
   "metadata": {},
   "outputs": [],
   "source": [
    "statesCounts = stateCounts.to_frame()"
   ]
  },
  {
   "cell_type": "markdown",
   "metadata": {},
   "source": [
    "Created a dataframe of the count of incidents for each state. Then will merge this dataframe with the population dataframe."
   ]
  },
  {
   "cell_type": "code",
   "execution_count": 48,
   "metadata": {},
   "outputs": [],
   "source": [
    "statesCounts['States'] = statesCounts.index"
   ]
  },
  {
   "cell_type": "code",
   "execution_count": 49,
   "metadata": {},
   "outputs": [],
   "source": [
    "statesCounts = statesCounts.rename(index=str, columns={'State':'Count','States':'State'})"
   ]
  },
  {
   "cell_type": "code",
   "execution_count": 50,
   "metadata": {},
   "outputs": [
    {
     "data": {
      "text/plain": [
       "Count    48\n",
       "State    48\n",
       "dtype: int64"
      ]
     },
     "execution_count": 50,
     "metadata": {},
     "output_type": "execute_result"
    }
   ],
   "source": [
    "statesCounts.count()"
   ]
  },
  {
   "cell_type": "code",
   "execution_count": 51,
   "metadata": {},
   "outputs": [],
   "source": [
    "stateGunStats = pd.merge(statesCounts, statePopulations, how='inner', on='State')"
   ]
  },
  {
   "cell_type": "code",
   "execution_count": 52,
   "metadata": {},
   "outputs": [],
   "source": [
    "stateGunStats['Incidents Per 100,000'] = stateGunStats['Count'] / stateGunStats['Per 100,000']"
   ]
  },
  {
   "cell_type": "code",
   "execution_count": 53,
   "metadata": {},
   "outputs": [
    {
     "data": {
      "text/html": [
       "<div>\n",
       "<style scoped>\n",
       "    .dataframe tbody tr th:only-of-type {\n",
       "        vertical-align: middle;\n",
       "    }\n",
       "\n",
       "    .dataframe tbody tr th {\n",
       "        vertical-align: top;\n",
       "    }\n",
       "\n",
       "    .dataframe thead th {\n",
       "        text-align: right;\n",
       "    }\n",
       "</style>\n",
       "<table border=\"1\" class=\"dataframe\">\n",
       "  <thead>\n",
       "    <tr style=\"text-align: right;\">\n",
       "      <th></th>\n",
       "      <th>Count</th>\n",
       "      <th>Population</th>\n",
       "      <th>Per 100,000</th>\n",
       "      <th>Incidents Per 100,000</th>\n",
       "    </tr>\n",
       "    <tr>\n",
       "      <th>State</th>\n",
       "      <th></th>\n",
       "      <th></th>\n",
       "      <th></th>\n",
       "      <th></th>\n",
       "    </tr>\n",
       "  </thead>\n",
       "  <tbody>\n",
       "    <tr>\n",
       "      <th>Texas</th>\n",
       "      <td>73</td>\n",
       "      <td>27904862</td>\n",
       "      <td>279.05</td>\n",
       "      <td>0.261602</td>\n",
       "    </tr>\n",
       "    <tr>\n",
       "      <th>Florida</th>\n",
       "      <td>48</td>\n",
       "      <td>20656589</td>\n",
       "      <td>206.57</td>\n",
       "      <td>0.232367</td>\n",
       "    </tr>\n",
       "    <tr>\n",
       "      <th>Georgia</th>\n",
       "      <td>44</td>\n",
       "      <td>10313620</td>\n",
       "      <td>103.14</td>\n",
       "      <td>0.426605</td>\n",
       "    </tr>\n",
       "    <tr>\n",
       "      <th>Michigan</th>\n",
       "      <td>35</td>\n",
       "      <td>9933445</td>\n",
       "      <td>99.33</td>\n",
       "      <td>0.352361</td>\n",
       "    </tr>\n",
       "    <tr>\n",
       "      <th>Louisiana</th>\n",
       "      <td>34</td>\n",
       "      <td>4686157</td>\n",
       "      <td>46.86</td>\n",
       "      <td>0.725566</td>\n",
       "    </tr>\n",
       "  </tbody>\n",
       "</table>\n",
       "</div>"
      ],
      "text/plain": [
       "           Count  Population  Per 100,000  Incidents Per 100,000\n",
       "State                                                           \n",
       "Texas         73    27904862       279.05               0.261602\n",
       "Florida       48    20656589       206.57               0.232367\n",
       "Georgia       44    10313620       103.14               0.426605\n",
       "Michigan      35     9933445        99.33               0.352361\n",
       "Louisiana     34     4686157        46.86               0.725566"
      ]
     },
     "execution_count": 53,
     "metadata": {},
     "output_type": "execute_result"
    }
   ],
   "source": [
    "stateGunStats = stateGunStats.set_index('State')\n",
    "stateGunStats.head()"
   ]
  },
  {
   "cell_type": "code",
   "execution_count": 54,
   "metadata": {},
   "outputs": [],
   "source": [
    "stateGunStats = stateGunStats.sort_index()"
   ]
  },
  {
   "cell_type": "code",
   "execution_count": 55,
   "metadata": {},
   "outputs": [
    {
     "data": {
      "text/plain": [
       "<matplotlib.axes._subplots.AxesSubplot at 0x1186c76d8>"
      ]
     },
     "execution_count": 55,
     "metadata": {},
     "output_type": "execute_result"
    },
    {
     "data": {
      "image/png": "[encoded data removed]",
      "text/plain": [
       "<matplotlib.figure.Figure at 0x1186b8c88>"
      ]
     },
     "metadata": {},
     "output_type": "display_data"
    }
   ],
   "source": [
    "stateGunStats['Incidents Per 100,000'].plot(kind='barh', figsize=(10, 12))"
   ]
  },
  {
   "cell_type": "markdown",
   "metadata": {},
   "source": [
    "So now I see a much different looking chart, with Louisiana with the most incidents per 100,000 people at just above 0.7. Texas, which was leading in number of incidents, falls to the middle of the pack when population is taken into account."
   ]
  },
  {
   "cell_type": "code",
   "execution_count": 56,
   "metadata": {},
   "outputs": [],
   "source": [
    "stateGrouped = updatedAccDeaths.groupby('State').sum()"
   ]
  },
  {
   "cell_type": "code",
   "execution_count": 57,
   "metadata": {},
   "outputs": [
    {
     "data": {
      "text/plain": [
       "<matplotlib.axes._subplots.AxesSubplot at 0x11873f208>"
      ]
     },
     "execution_count": 57,
     "metadata": {},
     "output_type": "execute_result"
    },
    {
     "data": {
      "image/png": "[encoded data removed]",
      "text/plain": [
       "<matplotlib.figure.Figure at 0x1187bf128>"
      ]
     },
     "metadata": {},
     "output_type": "display_data"
    }
   ],
   "source": [
    "stateGrouped[['# Killed','# Injured']].plot.barh(stacked=True, figsize=(12, 12))"
   ]
  },
  {
   "cell_type": "markdown",
   "metadata": {},
   "source": [
    "Grouped the incidents by states to get the count of people killed and injured. Number of people killed take up most of the numbers, which makes sense because we're only looking at the death datasets."
   ]
  },
  {
   "cell_type": "code",
   "execution_count": 58,
   "metadata": {},
   "outputs": [],
   "source": [
    "stateGrouped['Killed per 100,000'] = stateGrouped['# Killed'] / stateGunStats['Per 100,000']"
   ]
  },
  {
   "cell_type": "code",
   "execution_count": 59,
   "metadata": {},
   "outputs": [
    {
     "data": {
      "text/html": [
       "<div>\n",
       "<style scoped>\n",
       "    .dataframe tbody tr th:only-of-type {\n",
       "        vertical-align: middle;\n",
       "    }\n",
       "\n",
       "    .dataframe tbody tr th {\n",
       "        vertical-align: top;\n",
       "    }\n",
       "\n",
       "    .dataframe thead th {\n",
       "        text-align: right;\n",
       "    }\n",
       "</style>\n",
       "<table border=\"1\" class=\"dataframe\">\n",
       "  <thead>\n",
       "    <tr style=\"text-align: right;\">\n",
       "      <th></th>\n",
       "      <th># Injured</th>\n",
       "      <th># Killed</th>\n",
       "      <th>isChild</th>\n",
       "      <th>isTeen</th>\n",
       "      <th>Killed per 100,000</th>\n",
       "    </tr>\n",
       "    <tr>\n",
       "      <th>State</th>\n",
       "      <th></th>\n",
       "      <th></th>\n",
       "      <th></th>\n",
       "      <th></th>\n",
       "      <th></th>\n",
       "    </tr>\n",
       "  </thead>\n",
       "  <tbody>\n",
       "    <tr>\n",
       "      <th>Alabama</th>\n",
       "      <td>2</td>\n",
       "      <td>19</td>\n",
       "      <td>8</td>\n",
       "      <td>6</td>\n",
       "      <td>0.390866</td>\n",
       "    </tr>\n",
       "    <tr>\n",
       "      <th>Alaska</th>\n",
       "      <td>0</td>\n",
       "      <td>4</td>\n",
       "      <td>1</td>\n",
       "      <td>1</td>\n",
       "      <td>0.539084</td>\n",
       "    </tr>\n",
       "    <tr>\n",
       "      <th>Arizona</th>\n",
       "      <td>0</td>\n",
       "      <td>11</td>\n",
       "      <td>4</td>\n",
       "      <td>3</td>\n",
       "      <td>0.159213</td>\n",
       "    </tr>\n",
       "    <tr>\n",
       "      <th>Arkansas</th>\n",
       "      <td>0</td>\n",
       "      <td>14</td>\n",
       "      <td>5</td>\n",
       "      <td>4</td>\n",
       "      <td>0.468541</td>\n",
       "    </tr>\n",
       "    <tr>\n",
       "      <th>California</th>\n",
       "      <td>1</td>\n",
       "      <td>24</td>\n",
       "      <td>4</td>\n",
       "      <td>9</td>\n",
       "      <td>0.061075</td>\n",
       "    </tr>\n",
       "  </tbody>\n",
       "</table>\n",
       "</div>"
      ],
      "text/plain": [
       "            # Injured  # Killed  isChild  isTeen  Killed per 100,000\n",
       "State                                                               \n",
       "Alabama             2        19        8       6            0.390866\n",
       "Alaska              0         4        1       1            0.539084\n",
       "Arizona             0        11        4       3            0.159213\n",
       "Arkansas            0        14        5       4            0.468541\n",
       "California          1        24        4       9            0.061075"
      ]
     },
     "execution_count": 59,
     "metadata": {},
     "output_type": "execute_result"
    }
   ],
   "source": [
    "stateGrouped.head()"
   ]
  },
  {
   "cell_type": "code",
   "execution_count": 60,
   "metadata": {},
   "outputs": [
    {
     "data": {
      "text/plain": [
       "Text(0.5,1,'People Killed per 100,000 by State')"
      ]
     },
     "execution_count": 60,
     "metadata": {},
     "output_type": "execute_result"
    },
    {
     "data": {
      "image/png": "[encoded data removed]",
      "text/plain": [
       "<matplotlib.figure.Figure at 0x118b2c4a8>"
      ]
     },
     "metadata": {},
     "output_type": "display_data"
    }
   ],
   "source": [
    "chart = stateGrouped['Killed per 100,000'].plot.barh(figsize=(12,12))\n",
    "\n",
    "chart.set_xlabel(\"Killed per 100,000\")\n",
    "chart.set_ylabel(\"States\")\n",
    "chart.set_title(\"People Killed per 100,000 by State\")"
   ]
  },
  {
   "cell_type": "markdown",
   "metadata": {},
   "source": [
    "Look at the number of people killed per 100,000 by state. Not all that different from number of incidents. I'd assume that's because accidental deaths rarely have more then 1 person killed at a time since they are accidents. And if you look at the descriptive statistics of the updatedAccDeath dataframe from earlier, you'll see the mean is 1.007032 killed with a max of only 3."
   ]
  },
  {
   "cell_type": "markdown",
   "metadata": {},
   "source": [
    "Possible Next Steps:\n",
    "<br>\n",
    "1) Look at gun ownership data in each state. Correlations?\n",
    "<br>\n",
    "2) Look at how states voted. Are Republican or Democratic states more likely to have accidental deaths?\n",
    "<br>\n",
    "3) Look at how state gun laws correlate to accidental deaths"
   ]
  },
  {
   "cell_type": "code",
   "execution_count": 61,
   "metadata": {},
   "outputs": [
    {
     "data": {
      "text/plain": [
       "state             50\n",
       "mortality_rate    50\n",
       "ownership_rate    50\n",
       "dtype: int64"
      ]
     },
     "execution_count": 61,
     "metadata": {},
     "output_type": "execute_result"
    }
   ],
   "source": [
    "gunOwnership = pd.read_csv('https://www.openintro.org/stat/data/gun_violence_us.csv')\n",
    "gunOwnership.count()"
   ]
  },
  {
   "cell_type": "markdown",
   "metadata": {},
   "source": [
    "Load dataset of gun ownership rate for each state"
   ]
  },
  {
   "cell_type": "code",
   "execution_count": 62,
   "metadata": {},
   "outputs": [
    {
     "data": {
      "text/html": [
       "<div>\n",
       "<style scoped>\n",
       "    .dataframe tbody tr th:only-of-type {\n",
       "        vertical-align: middle;\n",
       "    }\n",
       "\n",
       "    .dataframe tbody tr th {\n",
       "        vertical-align: top;\n",
       "    }\n",
       "\n",
       "    .dataframe thead th {\n",
       "        text-align: right;\n",
       "    }\n",
       "</style>\n",
       "<table border=\"1\" class=\"dataframe\">\n",
       "  <thead>\n",
       "    <tr style=\"text-align: right;\">\n",
       "      <th></th>\n",
       "      <th>state</th>\n",
       "      <th>mortality_rate</th>\n",
       "      <th>ownership_rate</th>\n",
       "    </tr>\n",
       "  </thead>\n",
       "  <tbody>\n",
       "    <tr>\n",
       "      <th>7</th>\n",
       "      <td>DE</td>\n",
       "      <td>11.1</td>\n",
       "      <td>0.052</td>\n",
       "    </tr>\n",
       "    <tr>\n",
       "      <th>38</th>\n",
       "      <td>RI</td>\n",
       "      <td>2.9</td>\n",
       "      <td>0.058</td>\n",
       "    </tr>\n",
       "  </tbody>\n",
       "</table>\n",
       "</div>"
      ],
      "text/plain": [
       "   state  mortality_rate  ownership_rate\n",
       "7     DE            11.1           0.052\n",
       "38    RI             2.9           0.058"
      ]
     },
     "execution_count": 62,
     "metadata": {},
     "output_type": "execute_result"
    }
   ],
   "source": [
    "RI = gunOwnership['state'] == 'RI'\n",
    "DE = gunOwnership['state'] == 'DE'\n",
    "gunOwnership[DE | RI]"
   ]
  },
  {
   "cell_type": "code",
   "execution_count": 63,
   "metadata": {},
   "outputs": [],
   "source": [
    "gunOwnership = gunOwnership.drop([7,38])"
   ]
  },
  {
   "cell_type": "code",
   "execution_count": 64,
   "metadata": {},
   "outputs": [
    {
     "data": {
      "text/html": [
       "<div>\n",
       "<style scoped>\n",
       "    .dataframe tbody tr th:only-of-type {\n",
       "        vertical-align: middle;\n",
       "    }\n",
       "\n",
       "    .dataframe tbody tr th {\n",
       "        vertical-align: top;\n",
       "    }\n",
       "\n",
       "    .dataframe thead th {\n",
       "        text-align: right;\n",
       "    }\n",
       "</style>\n",
       "<table border=\"1\" class=\"dataframe\">\n",
       "  <thead>\n",
       "    <tr style=\"text-align: right;\">\n",
       "      <th></th>\n",
       "      <th>state</th>\n",
       "      <th>mortality_rate</th>\n",
       "      <th>ownership_rate</th>\n",
       "    </tr>\n",
       "  </thead>\n",
       "  <tbody>\n",
       "    <tr>\n",
       "      <th>28</th>\n",
       "      <td>NH</td>\n",
       "      <td>8.6</td>\n",
       "      <td>0.144</td>\n",
       "    </tr>\n",
       "  </tbody>\n",
       "</table>\n",
       "</div>"
      ],
      "text/plain": [
       "   state  mortality_rate  ownership_rate\n",
       "28    NH             8.6           0.144"
      ]
     },
     "execution_count": 64,
     "metadata": {},
     "output_type": "execute_result"
    }
   ],
   "source": [
    "NH = gunOwnership['state'] == 'NH'\n",
    "gunOwnership[NH]"
   ]
  },
  {
   "cell_type": "code",
   "execution_count": 65,
   "metadata": {},
   "outputs": [],
   "source": [
    "gunOwnership = gunOwnership.drop([28])"
   ]
  },
  {
   "cell_type": "code",
   "execution_count": 66,
   "metadata": {},
   "outputs": [],
   "source": [
    "stateGrouped = stateGrouped.drop(['District of Columbia'])"
   ]
  },
  {
   "cell_type": "code",
   "execution_count": 67,
   "metadata": {},
   "outputs": [
    {
     "name": "stdout",
     "output_type": "stream",
     "text": [
      "state             47\n",
      "mortality_rate    47\n",
      "ownership_rate    47\n",
      "dtype: int64\n",
      "# Injured             47\n",
      "# Killed              47\n",
      "isChild               47\n",
      "isTeen                47\n",
      "Killed per 100,000    47\n",
      "dtype: int64\n"
     ]
    }
   ],
   "source": [
    "print(gunOwnership.count())\n",
    "print(stateGrouped.count())"
   ]
  },
  {
   "cell_type": "raw",
   "metadata": {},
   "source": [
    "Dropped Rhode Island, Delaware, and New Hampshire from gun ownership dataset because we don't have data for those states in the stateGrouped dataset. Dropped District of Columbia from stateGrouped dataset because there is no correspoding record for gun ownership. So now we have 47 states in each dataset with data."
   ]
  },
  {
   "cell_type": "code",
   "execution_count": 68,
   "metadata": {},
   "outputs": [],
   "source": [
    "states = {\n",
    "        'AK': 'Alaska',\n",
    "        'AL': 'Alabama',\n",
    "        'AR': 'Arkansas',\n",
    "        'AS': 'American Samoa',\n",
    "        'AZ': 'Arizona',\n",
    "        'CA': 'California',\n",
    "        'CO': 'Colorado',\n",
    "        'CT': 'Connecticut',\n",
    "        'DC': 'District of Columbia',\n",
    "        'DE': 'Delaware',\n",
    "        'FL': 'Florida',\n",
    "        'GA': 'Georgia',\n",
    "        'GU': 'Guam',\n",
    "        'HI': 'Hawaii',\n",
    "        'IA': 'Iowa',\n",
    "        'ID': 'Idaho',\n",
    "        'IL': 'Illinois',\n",
    "        'IN': 'Indiana',\n",
    "        'KS': 'Kansas',\n",
    "        'KY': 'Kentucky',\n",
    "        'LA': 'Louisiana',\n",
    "        'MA': 'Massachusetts',\n",
    "        'MD': 'Maryland',\n",
    "        'ME': 'Maine',\n",
    "        'MI': 'Michigan',\n",
    "        'MN': 'Minnesota',\n",
    "        'MO': 'Missouri',\n",
    "        'MP': 'Northern Mariana Islands',\n",
    "        'MS': 'Mississippi',\n",
    "        'MT': 'Montana',\n",
    "        'NA': 'National',\n",
    "        'NC': 'North Carolina',\n",
    "        'ND': 'North Dakota',\n",
    "        'NE': 'Nebraska',\n",
    "        'NH': 'New Hampshire',\n",
    "        'NJ': 'New Jersey',\n",
    "        'NM': 'New Mexico',\n",
    "        'NV': 'Nevada',\n",
    "        'NY': 'New York',\n",
    "        'OH': 'Ohio',\n",
    "        'OK': 'Oklahoma',\n",
    "        'OR': 'Oregon',\n",
    "        'PA': 'Pennsylvania',\n",
    "        'PR': 'Puerto Rico',\n",
    "        'RI': 'Rhode Island',\n",
    "        'SC': 'South Carolina',\n",
    "        'SD': 'South Dakota',\n",
    "        'TN': 'Tennessee',\n",
    "        'TX': 'Texas',\n",
    "        'UT': 'Utah',\n",
    "        'VA': 'Virginia',\n",
    "        'VI': 'Virgin Islands',\n",
    "        'VT': 'Vermont',\n",
    "        'WA': 'Washington',\n",
    "        'WI': 'Wisconsin',\n",
    "        'WV': 'West Virginia',\n",
    "        'WY': 'Wyoming'\n",
    "}"
   ]
  },
  {
   "cell_type": "code",
   "execution_count": 69,
   "metadata": {},
   "outputs": [
    {
     "name": "stderr",
     "output_type": "stream",
     "text": [
      "/anaconda/envs/py3/lib/python3.6/site-packages/ipykernel_launcher.py:4: FutureWarning: set_value is deprecated and will be removed in a future release. Please use .at[] or .iat[] accessors instead\n",
      "  after removing the cwd from sys.path.\n"
     ]
    }
   ],
   "source": [
    "for index, row in gunOwnership.iterrows():\n",
    "    for key in states:\n",
    "        if row['state'] == key:\n",
    "            gunOwnership.set_value(index, 'state', states[key])"
   ]
  },
  {
   "cell_type": "markdown",
   "metadata": {},
   "source": [
    "Used states dictionary of abbreviations and full state names to convert the abbreviations in gun ownership dataframe to the full state name. The state field now corresponds the state field in the stateGrouped dataframe and will be used as the key to merge the 2 datasets."
   ]
  },
  {
   "cell_type": "code",
   "execution_count": 70,
   "metadata": {},
   "outputs": [
    {
     "data": {
      "text/html": [
       "<div>\n",
       "<style scoped>\n",
       "    .dataframe tbody tr th:only-of-type {\n",
       "        vertical-align: middle;\n",
       "    }\n",
       "\n",
       "    .dataframe tbody tr th {\n",
       "        vertical-align: top;\n",
       "    }\n",
       "\n",
       "    .dataframe thead th {\n",
       "        text-align: right;\n",
       "    }\n",
       "</style>\n",
       "<table border=\"1\" class=\"dataframe\">\n",
       "  <thead>\n",
       "    <tr style=\"text-align: right;\">\n",
       "      <th></th>\n",
       "      <th>state</th>\n",
       "      <th>mortality_rate</th>\n",
       "      <th>ownership_rate</th>\n",
       "    </tr>\n",
       "  </thead>\n",
       "  <tbody>\n",
       "    <tr>\n",
       "      <th>0</th>\n",
       "      <td>Alabama</td>\n",
       "      <td>16.7</td>\n",
       "      <td>0.489</td>\n",
       "    </tr>\n",
       "    <tr>\n",
       "      <th>1</th>\n",
       "      <td>Alaska</td>\n",
       "      <td>18.8</td>\n",
       "      <td>0.617</td>\n",
       "    </tr>\n",
       "    <tr>\n",
       "      <th>2</th>\n",
       "      <td>Arizona</td>\n",
       "      <td>13.4</td>\n",
       "      <td>0.323</td>\n",
       "    </tr>\n",
       "    <tr>\n",
       "      <th>3</th>\n",
       "      <td>Arkansas</td>\n",
       "      <td>16.4</td>\n",
       "      <td>0.579</td>\n",
       "    </tr>\n",
       "    <tr>\n",
       "      <th>4</th>\n",
       "      <td>California</td>\n",
       "      <td>7.4</td>\n",
       "      <td>0.201</td>\n",
       "    </tr>\n",
       "  </tbody>\n",
       "</table>\n",
       "</div>"
      ],
      "text/plain": [
       "        state  mortality_rate  ownership_rate\n",
       "0     Alabama            16.7           0.489\n",
       "1      Alaska            18.8           0.617\n",
       "2     Arizona            13.4           0.323\n",
       "3    Arkansas            16.4           0.579\n",
       "4  California             7.4           0.201"
      ]
     },
     "execution_count": 70,
     "metadata": {},
     "output_type": "execute_result"
    }
   ],
   "source": [
    "gunOwnership.head()"
   ]
  },
  {
   "cell_type": "code",
   "execution_count": 71,
   "metadata": {},
   "outputs": [
    {
     "data": {
      "text/plain": [
       "Index(['# Injured', '# Killed', 'isChild', 'isTeen', 'Killed per 100,000'], dtype='object')"
      ]
     },
     "execution_count": 71,
     "metadata": {},
     "output_type": "execute_result"
    }
   ],
   "source": [
    "stateGrouped.columns"
   ]
  },
  {
   "cell_type": "code",
   "execution_count": 72,
   "metadata": {},
   "outputs": [
    {
     "data": {
      "text/html": [
       "<div>\n",
       "<style scoped>\n",
       "    .dataframe tbody tr th:only-of-type {\n",
       "        vertical-align: middle;\n",
       "    }\n",
       "\n",
       "    .dataframe tbody tr th {\n",
       "        vertical-align: top;\n",
       "    }\n",
       "\n",
       "    .dataframe thead th {\n",
       "        text-align: right;\n",
       "    }\n",
       "</style>\n",
       "<table border=\"1\" class=\"dataframe\">\n",
       "  <thead>\n",
       "    <tr style=\"text-align: right;\">\n",
       "      <th></th>\n",
       "      <th># Injured</th>\n",
       "      <th># Killed</th>\n",
       "      <th>isChild</th>\n",
       "      <th>isTeen</th>\n",
       "      <th>Killed per 100,000</th>\n",
       "      <th>state</th>\n",
       "    </tr>\n",
       "    <tr>\n",
       "      <th>State</th>\n",
       "      <th></th>\n",
       "      <th></th>\n",
       "      <th></th>\n",
       "      <th></th>\n",
       "      <th></th>\n",
       "      <th></th>\n",
       "    </tr>\n",
       "  </thead>\n",
       "  <tbody>\n",
       "    <tr>\n",
       "      <th>Alabama</th>\n",
       "      <td>2</td>\n",
       "      <td>19</td>\n",
       "      <td>8</td>\n",
       "      <td>6</td>\n",
       "      <td>0.390866</td>\n",
       "      <td>Alabama</td>\n",
       "    </tr>\n",
       "    <tr>\n",
       "      <th>Alaska</th>\n",
       "      <td>0</td>\n",
       "      <td>4</td>\n",
       "      <td>1</td>\n",
       "      <td>1</td>\n",
       "      <td>0.539084</td>\n",
       "      <td>Alaska</td>\n",
       "    </tr>\n",
       "    <tr>\n",
       "      <th>Arizona</th>\n",
       "      <td>0</td>\n",
       "      <td>11</td>\n",
       "      <td>4</td>\n",
       "      <td>3</td>\n",
       "      <td>0.159213</td>\n",
       "      <td>Arizona</td>\n",
       "    </tr>\n",
       "    <tr>\n",
       "      <th>Arkansas</th>\n",
       "      <td>0</td>\n",
       "      <td>14</td>\n",
       "      <td>5</td>\n",
       "      <td>4</td>\n",
       "      <td>0.468541</td>\n",
       "      <td>Arkansas</td>\n",
       "    </tr>\n",
       "    <tr>\n",
       "      <th>California</th>\n",
       "      <td>1</td>\n",
       "      <td>24</td>\n",
       "      <td>4</td>\n",
       "      <td>9</td>\n",
       "      <td>0.061075</td>\n",
       "      <td>California</td>\n",
       "    </tr>\n",
       "  </tbody>\n",
       "</table>\n",
       "</div>"
      ],
      "text/plain": [
       "            # Injured  # Killed  isChild  isTeen  Killed per 100,000  \\\n",
       "State                                                                  \n",
       "Alabama             2        19        8       6            0.390866   \n",
       "Alaska              0         4        1       1            0.539084   \n",
       "Arizona             0        11        4       3            0.159213   \n",
       "Arkansas            0        14        5       4            0.468541   \n",
       "California          1        24        4       9            0.061075   \n",
       "\n",
       "                 state  \n",
       "State                   \n",
       "Alabama        Alabama  \n",
       "Alaska          Alaska  \n",
       "Arizona        Arizona  \n",
       "Arkansas      Arkansas  \n",
       "California  California  "
      ]
     },
     "execution_count": 72,
     "metadata": {},
     "output_type": "execute_result"
    }
   ],
   "source": [
    "stateGrouped['state'] = stateGrouped.index\n",
    "stateGrouped.head()"
   ]
  },
  {
   "cell_type": "code",
   "execution_count": 73,
   "metadata": {},
   "outputs": [
    {
     "data": {
      "text/html": [
       "<div>\n",
       "<style scoped>\n",
       "    .dataframe tbody tr th:only-of-type {\n",
       "        vertical-align: middle;\n",
       "    }\n",
       "\n",
       "    .dataframe tbody tr th {\n",
       "        vertical-align: top;\n",
       "    }\n",
       "\n",
       "    .dataframe thead th {\n",
       "        text-align: right;\n",
       "    }\n",
       "</style>\n",
       "<table border=\"1\" class=\"dataframe\">\n",
       "  <thead>\n",
       "    <tr style=\"text-align: right;\">\n",
       "      <th></th>\n",
       "      <th># Injured</th>\n",
       "      <th># Killed</th>\n",
       "      <th>isChild</th>\n",
       "      <th>isTeen</th>\n",
       "      <th>Killed per 100,000</th>\n",
       "      <th>state</th>\n",
       "      <th>mortality_rate</th>\n",
       "      <th>ownership_rate</th>\n",
       "    </tr>\n",
       "  </thead>\n",
       "  <tbody>\n",
       "    <tr>\n",
       "      <th>0</th>\n",
       "      <td>2</td>\n",
       "      <td>19</td>\n",
       "      <td>8</td>\n",
       "      <td>6</td>\n",
       "      <td>0.390866</td>\n",
       "      <td>Alabama</td>\n",
       "      <td>16.7</td>\n",
       "      <td>0.489</td>\n",
       "    </tr>\n",
       "    <tr>\n",
       "      <th>1</th>\n",
       "      <td>0</td>\n",
       "      <td>4</td>\n",
       "      <td>1</td>\n",
       "      <td>1</td>\n",
       "      <td>0.539084</td>\n",
       "      <td>Alaska</td>\n",
       "      <td>18.8</td>\n",
       "      <td>0.617</td>\n",
       "    </tr>\n",
       "    <tr>\n",
       "      <th>2</th>\n",
       "      <td>0</td>\n",
       "      <td>11</td>\n",
       "      <td>4</td>\n",
       "      <td>3</td>\n",
       "      <td>0.159213</td>\n",
       "      <td>Arizona</td>\n",
       "      <td>13.4</td>\n",
       "      <td>0.323</td>\n",
       "    </tr>\n",
       "    <tr>\n",
       "      <th>3</th>\n",
       "      <td>0</td>\n",
       "      <td>14</td>\n",
       "      <td>5</td>\n",
       "      <td>4</td>\n",
       "      <td>0.468541</td>\n",
       "      <td>Arkansas</td>\n",
       "      <td>16.4</td>\n",
       "      <td>0.579</td>\n",
       "    </tr>\n",
       "    <tr>\n",
       "      <th>4</th>\n",
       "      <td>1</td>\n",
       "      <td>24</td>\n",
       "      <td>4</td>\n",
       "      <td>9</td>\n",
       "      <td>0.061075</td>\n",
       "      <td>California</td>\n",
       "      <td>7.4</td>\n",
       "      <td>0.201</td>\n",
       "    </tr>\n",
       "  </tbody>\n",
       "</table>\n",
       "</div>"
      ],
      "text/plain": [
       "   # Injured  # Killed  isChild  isTeen  Killed per 100,000       state  \\\n",
       "0          2        19        8       6            0.390866     Alabama   \n",
       "1          0         4        1       1            0.539084      Alaska   \n",
       "2          0        11        4       3            0.159213     Arizona   \n",
       "3          0        14        5       4            0.468541    Arkansas   \n",
       "4          1        24        4       9            0.061075  California   \n",
       "\n",
       "   mortality_rate  ownership_rate  \n",
       "0            16.7           0.489  \n",
       "1            18.8           0.617  \n",
       "2            13.4           0.323  \n",
       "3            16.4           0.579  \n",
       "4             7.4           0.201  "
      ]
     },
     "execution_count": 73,
     "metadata": {},
     "output_type": "execute_result"
    }
   ],
   "source": [
    "gunOwnByState = stateGrouped.merge(gunOwnership, how='inner', on='state')\n",
    "gunOwnByState.head()"
   ]
  },
  {
   "cell_type": "markdown",
   "metadata": {},
   "source": [
    "Merged the 2 datasets so Killed per 100,000 and ownership_rate were in the same dataframe. Now we can plot them together."
   ]
  },
  {
   "cell_type": "code",
   "execution_count": 74,
   "metadata": {},
   "outputs": [
    {
     "data": {
      "text/plain": [
       "Text(0.5,1,'People Killed per 100,000 vs State Ownership Rate')"
      ]
     },
     "execution_count": 74,
     "metadata": {},
     "output_type": "execute_result"
    },
    {
     "data": {
      "image/png": "[encoded data removed]",
      "text/plain": [
       "<matplotlib.figure.Figure at 0x119169160>"
      ]
     },
     "metadata": {},
     "output_type": "display_data"
    }
   ],
   "source": [
    "chart2 = gunOwnByState.plot.scatter('Killed per 100,000', 'ownership_rate', figsize=(12,12))\n",
    "\n",
    "chart2.set_xlabel(\"Killed per 100,000\")\n",
    "chart2.set_ylabel(\"Ownership Rate\")\n",
    "chart2.set_title(\"People Killed per 100,000 vs State Ownership Rate\")"
   ]
  },
  {
   "cell_type": "code",
   "execution_count": 75,
   "metadata": {},
   "outputs": [
    {
     "data": {
      "text/plain": [
       "0.63283459441552947"
      ]
     },
     "execution_count": 75,
     "metadata": {},
     "output_type": "execute_result"
    }
   ],
   "source": [
    "gunOwnByState['Killed per 100,000'].corr(gunOwnByState['ownership_rate'])"
   ]
  },
  {
   "cell_type": "markdown",
   "metadata": {},
   "source": [
    "Can see from the graph a correlation between accidental deaths per 100,000 and gun ownership rate, with a correlation of 0.63. This isn't a very strong correlation but does show there is some correlation between the 2. There are probably other factors (gun laws, types of guns, social/political environment, etc.) that might also determine accidental gun deaths."
   ]
  },
  {
   "cell_type": "markdown",
   "metadata": {},
   "source": [
    "# Map Visualization using Basemap"
   ]
  },
  {
   "cell_type": "code",
   "execution_count": 76,
   "metadata": {},
   "outputs": [],
   "source": [
    "from mpl_toolkits.basemap import Basemap"
   ]
  },
  {
   "cell_type": "code",
   "execution_count": 77,
   "metadata": {},
   "outputs": [],
   "source": [
    "gunDict = gunOwnByState.set_index('state').to_dict()['ownership_rate']"
   ]
  },
  {
   "cell_type": "markdown",
   "metadata": {},
   "source": [
    "Create dictionary with states as keys and ownership rate as values. This will be used to create the map visualization."
   ]
  },
  {
   "cell_type": "code",
   "execution_count": 93,
   "metadata": {},
   "outputs": [
    {
     "name": "stderr",
     "output_type": "stream",
     "text": [
      "/anaconda/envs/py3/lib/python3.6/site-packages/mpl_toolkits/basemap/__init__.py:3260: MatplotlibDeprecationWarning: The ishold function was deprecated in version 2.0.\n",
      "  b = ax.ishold()\n",
      "/anaconda/envs/py3/lib/python3.6/site-packages/mpl_toolkits/basemap/__init__.py:3269: MatplotlibDeprecationWarning: axes.hold is deprecated.\n",
      "    See the API Changes document (http://matplotlib.org/api/api_changes.html)\n",
      "    for more details.\n",
      "  ax.hold(b)\n"
     ]
    },
    {
     "data": {
      "image/png": "[encoded data removed]",
      "text/plain": [
       "<matplotlib.figure.Figure at 0x1211b54a8>"
      ]
     },
     "metadata": {},
     "output_type": "display_data"
    }
   ],
   "source": [
    "from matplotlib.colors import rgb2hex, Normalize\n",
    "from matplotlib.patches import Polygon\n",
    "from matplotlib.colorbar import ColorbarBase\n",
    "\n",
    "fig, ax = plt.subplots(figsize=(12,10))\n",
    "\n",
    "# Lambert Conformal map of lower 48 states.\n",
    "m = Basemap(llcrnrlon=-119,llcrnrlat=20,urcrnrlon=-64,urcrnrlat=49,\n",
    "            projection='lcc',lat_1=33,lat_2=45,lon_0=-95)\n",
    "\n",
    "# Mercator projection, for Alaska and Hawaii\n",
    "m_ = Basemap(llcrnrlon=-190,llcrnrlat=20,urcrnrlon=-143,urcrnrlat=46,\n",
    "            projection='merc',lat_ts=20)\n",
    "\n",
    "shp_info = m.readshapefile('st99_d00','states',drawbounds=True,\n",
    "                           linewidth=0.45,color='gray')\n",
    "shp_info_ = m_.readshapefile('st99_d00','states',drawbounds=False)\n",
    "\n",
    "colors={}\n",
    "statenames=[]\n",
    "cmap = plt.cm.hot_r # use 'reversed hot' colormap\n",
    "vmin = .1; vmax = .7 # set range.\n",
    "norm = Normalize(vmin=vmin, vmax=vmax)\n",
    "for shapedict in m.states_info:\n",
    "    statename = shapedict['NAME']\n",
    "    # skip DC and Puerto Rico and states not included in data.\n",
    "    if statename not in ['District of Columbia','Puerto Rico','New Hampshire','Rhode Island','Delaware']:\n",
    "        own = gunDict[statename]\n",
    "        # calling colormap with value between 0 and 1 returns\n",
    "        # rgba value.  Invert color range (hot colors are high\n",
    "        # population), take sqrt root to spread out colors more.\n",
    "        colors[statename] = cmap(np.sqrt((own-vmin)/(vmax-vmin)))[:3]\n",
    "    statenames.append(statename)\n",
    "    \n",
    "for nshape,seg in enumerate(m.states):\n",
    "    # skip DC and Puerto Rico and states not included in data.\n",
    "    if statenames[nshape] not in ['Puerto Rico', 'District of Columbia','New Hampshire','Rhode Island','Delaware']:\n",
    "        color = rgb2hex(colors[statenames[nshape]])\n",
    "        poly = Polygon(seg,facecolor=color,edgecolor=color)\n",
    "        ax.add_patch(poly)\n",
    "        \n",
    "AREA_1 = 0.005  # exclude small Hawaiian islands that are smaller than AREA_1\n",
    "AREA_2 = AREA_1 * 30.0  # exclude Alaskan islands that are smaller than AREA_2\n",
    "AK_SCALE = 0.19  # scale down Alaska to show as a map inset\n",
    "HI_OFFSET_X = -1900000  # X coordinate offset amount to move Hawaii \"beneath\" Texas\n",
    "HI_OFFSET_Y = 250000    # similar to above: Y offset for Hawaii\n",
    "AK_OFFSET_X = -250000   # X offset for Alaska (These four values are obtained\n",
    "AK_OFFSET_Y = -750000   # via manual trial and error, thus changing them is not recommended.)\n",
    "\n",
    "for nshape, shapedict in enumerate(m_.states_info):  # plot Alaska and Hawaii as map insets\n",
    "    if shapedict['NAME'] in ['Alaska', 'Hawaii']:\n",
    "        seg = m_.states[int(shapedict['SHAPENUM'] - 1)]\n",
    "        if shapedict['NAME'] == 'Hawaii' and float(shapedict['AREA']) > AREA_1:\n",
    "            seg = [(x + HI_OFFSET_X, y + HI_OFFSET_Y) for x, y in seg]\n",
    "            color = rgb2hex(colors[statenames[nshape]])\n",
    "        elif shapedict['NAME'] == 'Alaska' and float(shapedict['AREA']) > AREA_2:\n",
    "            seg = [(x*AK_SCALE + AK_OFFSET_X, y*AK_SCALE + AK_OFFSET_Y)\\\n",
    "                   for x, y in seg]\n",
    "            color = rgb2hex(colors[statenames[nshape]])\n",
    "        poly = Polygon(seg, facecolor=color, edgecolor='gray', linewidth=.45)\n",
    "        ax.add_patch(poly)\n",
    "\n",
    "ax.set_title('United states gun ownership by state')\n",
    "\n",
    "#%% ---------  Plot bounding boxes for Alaska and Hawaii insets  --------------\n",
    "light_gray = [0.8]*3  # define light gray color RGB\n",
    "x1,y1 = m_([-190,-183,-180,-180,-175,-171,-171],[29,29,26,26,26,22,20])\n",
    "x2,y2 = m_([-180,-180,-177],[26,23,20])  # these numbers are fine-tuned manually\n",
    "m_.plot(x1,y1,color=light_gray,linewidth=0.8)  # do not change them drastically\n",
    "m_.plot(x2,y2,color=light_gray,linewidth=0.8)\n",
    "\n",
    "#%% ---------   Show color bar  ---------------------------------------\n",
    "ax_c = fig.add_axes([0.9, 0.1, 0.03, 0.8])\n",
    "cb = ColorbarBase(ax_c,cmap=cmap,norm=norm,orientation='vertical',\n",
    "                  label=r'[gun ownership]')\n",
    "\n",
    "plt.show()"
   ]
  },
  {
   "cell_type": "markdown",
   "metadata": {},
   "source": [
    "See heavier ownership rates in the south and up north just east of the Pacific Northwest. In the code we had to exclude states that weren't in the dataset like Rhode Island, New Hanpshire, and Delaware along with Puerto Rico and the District of Columbia which are in the states.info dictionary but aren't in the dataset."
   ]
  },
  {
   "cell_type": "code",
   "execution_count": 80,
   "metadata": {},
   "outputs": [],
   "source": [
    "killedDict = gunOwnByState.set_index('state').to_dict()['Killed per 100,000']"
   ]
  },
  {
   "cell_type": "markdown",
   "metadata": {},
   "source": [
    "Create dictionary with state as the key and killed per 100,000 as the value for the map visualization."
   ]
  },
  {
   "cell_type": "code",
   "execution_count": 92,
   "metadata": {},
   "outputs": [
    {
     "name": "stderr",
     "output_type": "stream",
     "text": [
      "/anaconda/envs/py3/lib/python3.6/site-packages/mpl_toolkits/basemap/__init__.py:3260: MatplotlibDeprecationWarning: The ishold function was deprecated in version 2.0.\n",
      "  b = ax.ishold()\n",
      "/anaconda/envs/py3/lib/python3.6/site-packages/mpl_toolkits/basemap/__init__.py:3269: MatplotlibDeprecationWarning: axes.hold is deprecated.\n",
      "    See the API Changes document (http://matplotlib.org/api/api_changes.html)\n",
      "    for more details.\n",
      "  ax.hold(b)\n"
     ]
    },
    {
     "data": {
      "image/png": "[encoded data removed]",
      "text/plain": [
       "<matplotlib.figure.Figure at 0x120132c50>"
      ]
     },
     "metadata": {},
     "output_type": "display_data"
    }
   ],
   "source": [
    "fig, ax = plt.subplots(figsize=(12,10))\n",
    "\n",
    "# Lambert Conformal map of lower 48 states.\n",
    "m = Basemap(llcrnrlon=-119,llcrnrlat=20,urcrnrlon=-64,urcrnrlat=49,\n",
    "            projection='lcc',lat_1=33,lat_2=45,lon_0=-95)\n",
    "\n",
    "# Mercator projection, for Alaska and Hawaii\n",
    "m_ = Basemap(llcrnrlon=-190,llcrnrlat=20,urcrnrlon=-143,urcrnrlat=46,\n",
    "            projection='merc',lat_ts=20)\n",
    "\n",
    "shp_info = m.readshapefile('st99_d00','states',drawbounds=True,\n",
    "                           linewidth=0.45,color='gray')\n",
    "shp_info_ = m_.readshapefile('st99_d00','states',drawbounds=False)\n",
    "\n",
    "colors={}\n",
    "statenames=[]\n",
    "cmap = plt.cm.hot_r # use 'reversed hot' colormap\n",
    "vmin = 0; vmax = .75 # set range.\n",
    "norm = Normalize(vmin=vmin, vmax=vmax)\n",
    "for shapedict in m.states_info:\n",
    "    statename = shapedict['NAME']\n",
    "    # skip DC and Puerto Rico and states not included in data.\n",
    "    if statename not in ['District of Columbia','Puerto Rico','New Hampshire','Rhode Island','Delaware']:\n",
    "        killed = killedDict[statename]\n",
    "        # calling colormap with value between 0 and 1 returns\n",
    "        # rgba value.  Invert color range (hot colors are high\n",
    "        # population), take sqrt root to spread out colors more.\n",
    "        colors[statename] = cmap(np.sqrt((killed-vmin)/(vmax-vmin)))[:3]\n",
    "    statenames.append(statename)\n",
    "    \n",
    "for nshape,seg in enumerate(m.states):\n",
    "    # skip DC and Puerto Rico and states not included in data.\n",
    "    if statenames[nshape] not in ['Puerto Rico', 'District of Columbia','New Hampshire','Rhode Island','Delaware']:\n",
    "        color = rgb2hex(colors[statenames[nshape]])\n",
    "        poly = Polygon(seg,facecolor=color,edgecolor=color)\n",
    "        ax.add_patch(poly)\n",
    "        \n",
    "AREA_1 = 0.005  # exclude small Hawaiian islands that are smaller than AREA_1\n",
    "AREA_2 = AREA_1 * 30.0  # exclude Alaskan islands that are smaller than AREA_2\n",
    "AK_SCALE = 0.19  # scale down Alaska to show as a map inset\n",
    "HI_OFFSET_X = -1900000  # X coordinate offset amount to move Hawaii \"beneath\" Texas\n",
    "HI_OFFSET_Y = 250000    # similar to above: Y offset for Hawaii\n",
    "AK_OFFSET_X = -250000   # X offset for Alaska (These four values are obtained\n",
    "AK_OFFSET_Y = -750000   # via manual trial and error, thus changing them is not recommended.)\n",
    "\n",
    "for nshape, shapedict in enumerate(m_.states_info):  # plot Alaska and Hawaii as map insets\n",
    "    if shapedict['NAME'] in ['Alaska', 'Hawaii']:\n",
    "        seg = m_.states[int(shapedict['SHAPENUM'] - 1)]\n",
    "        if shapedict['NAME'] == 'Hawaii' and float(shapedict['AREA']) > AREA_1:\n",
    "            seg = [(x + HI_OFFSET_X, y + HI_OFFSET_Y) for x, y in seg]\n",
    "            color = rgb2hex(colors[statenames[nshape]])\n",
    "        elif shapedict['NAME'] == 'Alaska' and float(shapedict['AREA']) > AREA_2:\n",
    "            seg = [(x*AK_SCALE + AK_OFFSET_X, y*AK_SCALE + AK_OFFSET_Y)\\\n",
    "                   for x, y in seg]\n",
    "            color = rgb2hex(colors[statenames[nshape]])\n",
    "        poly = Polygon(seg, facecolor=color, edgecolor='gray', linewidth=.45)\n",
    "        ax.add_patch(poly)\n",
    "\n",
    "ax.set_title('United states accidental gun deaths per 100,000 by state')\n",
    "\n",
    "#%% ---------  Plot bounding boxes for Alaska and Hawaii insets  --------------\n",
    "light_gray = [0.8]*3  # define light gray color RGB\n",
    "x1,y1 = m_([-190,-183,-180,-180,-175,-171,-171],[29,29,26,26,26,22,20])\n",
    "x2,y2 = m_([-180,-180,-177],[26,23,20])  # these numbers are fine-tuned manually\n",
    "m_.plot(x1,y1,color=light_gray,linewidth=0.8)  # do not change them drastically\n",
    "m_.plot(x2,y2,color=light_gray,linewidth=0.8)\n",
    "\n",
    "#%% ---------   Show color bar  ---------------------------------------\n",
    "ax_c = fig.add_axes([0.9, 0.1, 0.03, 0.8])\n",
    "cb = ColorbarBase(ax_c,cmap=cmap,norm=norm,orientation='vertical',\n",
    "                  label=r'[Deaths per 100,000]')\n",
    "\n",
    "plt.show()"
   ]
  },
  {
   "cell_type": "markdown",
   "metadata": {},
   "source": [
    "You can see some states, particularly in the South, both have high rates in both graphs. Then states like New York and California have low rates in both graphs. This verifies the correlation we saw from earlier."
   ]
  },
  {
   "cell_type": "code",
   "execution_count": null,
   "metadata": {},
   "outputs": [],
   "source": []
  }
 ],
 "metadata": {
  "kernelspec": {
   "display_name": "Python 3",
   "language": "python",
   "name": "python3"
  },
  "language_info": {
   "codemirror_mode": {
    "name": "ipython",
    "version": 3
   },
   "file_extension": ".py",
   "mimetype": "text/x-python",
   "name": "python",
   "nbconvert_exporter": "python",
   "pygments_lexer": "ipython3",
   "version": "3.6.4"
  }
 },
 "nbformat": 4,
 "nbformat_minor": 2
}
